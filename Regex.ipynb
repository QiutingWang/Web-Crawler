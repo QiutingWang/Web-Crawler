{
  "nbformat": 4,
  "nbformat_minor": 0,
  "metadata": {
    "colab": {
      "provenance": []
    },
    "kernelspec": {
      "name": "python3",
      "display_name": "Python 3"
    },
    "language_info": {
      "name": "python"
    }
  },
  "cells": [
    {
      "cell_type": "markdown",
      "source": [
        "# Regular Expression\n",
        "- Convert Tool:  http://tool.oschina.net/regex/\n",
        "- Extract specific text with certain rules\n",
        "- Regex Match Table: https://www.rexegg.com/regex-quickstart.html\n",
        "- Python has `re` package for the whole regex symbols and operation.\n",
        "- `re` Code References: https://docs.python.org/3/library/re.html\n",
        "- Regex Web Crawling Application Example: https://blog.csdn.net/Eastmount/article/details/78275983\n",
        "- Medium post: https://medium.com/towards-data-science/regular-expressions-regex-with-examples-in-python-and-pandas-461228335670\n",
        "- Escape Match: http://c.biancheng.net/view/2176.html\n"
      ],
      "metadata": {
        "id": "Jxy8Acxu4UN3"
      }
    },
    {
      "cell_type": "markdown",
      "source": [
        "### Match\n",
        "- Input the character strings and regular expression, check whether these two are matched.\n",
        "- Try to check the match from the first string."
      ],
      "metadata": {
        "id": "iHqcjpiw4wXF"
      }
    },
    {
      "cell_type": "code",
      "source": [
        "import re"
      ],
      "metadata": {
        "id": "jUFMZcmM4x0n"
      },
      "execution_count": 24,
      "outputs": []
    },
    {
      "cell_type": "code",
      "source": [
        "content1='Hello 123 4567 World_This is a Regex Demo'\n",
        "print(len(content1))"
      ],
      "metadata": {
        "colab": {
          "base_uri": "https://localhost:8080/"
        },
        "id": "WyAcjNyoSFya",
        "outputId": "3463c7db-2fd9-4c96-ad83-ce3cf1b5ec14"
      },
      "execution_count": 25,
      "outputs": [
        {
          "output_type": "stream",
          "name": "stdout",
          "text": [
            "41\n"
          ]
        }
      ]
    },
    {
      "cell_type": "code",
      "source": [
        "result=re.match('^Hello\\s\\d\\d\\d\\s\\d{4}\\s\\w{10}', content1) #correspond to the regex table\n",
        "print(result)\n",
        "print(result.group())\n",
        "print(result.span())"
      ],
      "metadata": {
        "colab": {
          "base_uri": "https://localhost:8080/"
        },
        "id": "0IDHkvqfSWIF",
        "outputId": "cf4f8a91-00c1-4bc2-cb7d-a93daa7134cb"
      },
      "execution_count": 26,
      "outputs": [
        {
          "output_type": "stream",
          "name": "stdout",
          "text": [
            "<re.Match object; span=(0, 25), match='Hello 123 4567 World_This'>\n",
            "Hello 123 4567 World_This\n",
            "(0, 25)\n"
          ]
        }
      ]
    },
    {
      "cell_type": "markdown",
      "source": [
        "`^`: the beginning symbol\n",
        "\n",
        "`\\s`: space \n",
        "\n",
        "`\\d`: number\n",
        "\n",
        "`\\d{4}`: four times with number for simplicity\n",
        "\n",
        "`\\w{10}`: ten times with letter or underline\n",
        "\n",
        "-----------\n",
        "Code model: `match(regex,content)`\n",
        "\n",
        "Output: \n",
        "- `.group()`: output the matches content\n",
        "- `.span()`: the index position of successfully matched portion in original content\n"
      ],
      "metadata": {
        "id": "u-IEkoa1TStp"
      }
    },
    {
      "cell_type": "markdown",
      "source": [
        "#### Target Matching\n",
        "- abstract part of content use regrex method\n",
        "- Method: \n",
        "   - use `()` to select the string we want to get in regex\n",
        "   - then use `group(1)` to index and get the first successfully abstracted content, following by `group(2)`, `group(3)`..."
      ],
      "metadata": {
        "id": "ibAnd5h6VOea"
      }
    },
    {
      "cell_type": "code",
      "source": [
        "content2 = 'Hello 1234567 World_This is a Regex Demo'\n",
        "result1=re.match('^Hello\\s(\\d+)\\sWorld',content2) \n",
        "print(result1)\n",
        "print(result1.group())\n",
        "print(result1.group(1)) #indexing\n",
        "print(result1.span())"
      ],
      "metadata": {
        "colab": {
          "base_uri": "https://localhost:8080/"
        },
        "id": "eLzHYUINT5LV",
        "outputId": "19e38bf9-1d1c-4404-fbf4-6e286720c9c9"
      },
      "execution_count": 27,
      "outputs": [
        {
          "output_type": "stream",
          "name": "stdout",
          "text": [
            "<re.Match object; span=(0, 19), match='Hello 1234567 World'>\n",
            "Hello 1234567 World\n",
            "1234567\n",
            "(0, 19)\n"
          ]
        }
      ]
    },
    {
      "cell_type": "markdown",
      "source": [
        "#### Universal Matching\n",
        "- use `.` to match any regex string and content except `\\n`\n",
        "- `.` represents match the front strings with indefinite times\n",
        "- Intuition: Do not need to match regex string and content one by one\n",
        "- Code: use `.*` omit the middle part without typing the matched regex strings one by one, then end with the ending symbol `$`."
      ],
      "metadata": {
        "id": "VrrJQcQGYqTl"
      }
    },
    {
      "cell_type": "code",
      "source": [
        "result2=re.match('^Hello.*Demo$',content1)\n",
        "print(result2)\n",
        "print(result2.group())\n",
        "print(result2.span())"
      ],
      "metadata": {
        "colab": {
          "base_uri": "https://localhost:8080/"
        },
        "id": "K5S73pgiWwZn",
        "outputId": "368e19f6-2030-400b-8500-15b0d64b7576"
      },
      "execution_count": 28,
      "outputs": [
        {
          "output_type": "stream",
          "name": "stdout",
          "text": [
            "<re.Match object; span=(0, 41), match='Hello 123 4567 World_This is a Regex Demo'>\n",
            "Hello 123 4567 World_This is a Regex Demo\n",
            "(0, 41)\n"
          ]
        }
      ]
    },
    {
      "cell_type": "markdown",
      "source": [
        "#### Greedy Match & Lazy Match\n",
        "- Cases: use `.*` , sometimes we get unwanted results"
      ],
      "metadata": {
        "id": "zct5Mny8bHWf"
      }
    },
    {
      "cell_type": "code",
      "source": [
        "#if we want to abstract the number portion in content\n",
        "result3=re.match('^He.*(\\d+).*Demo$',content2)\n",
        "print(result3)\n",
        "print(result3.group(1)) #as result shows, we only get 7 this number, instead of 1234567"
      ],
      "metadata": {
        "colab": {
          "base_uri": "https://localhost:8080/"
        },
        "id": "ZkiSoJ5Fb36M",
        "outputId": "b0e68483-6c42-4339-c69f-20aed90bd699"
      },
      "execution_count": 29,
      "outputs": [
        {
          "output_type": "stream",
          "name": "stdout",
          "text": [
            "<re.Match object; span=(0, 40), match='Hello 1234567 World_This is a Regex Demo'>\n",
            "7\n"
          ]
        }
      ]
    },
    {
      "cell_type": "markdown",
      "source": [
        "In **Greedy Matching**: `.*` successful matches as many strings  as possible.\n",
        "  - in this case, `.*` matches `...123456`\n",
        "\n",
        "Hence, we use **Lazy Matching** method, with `.*?` symbol. `.*?` matches as small numbers of strings as possible.\n"
      ],
      "metadata": {
        "id": "OP58jjRUc-X1"
      }
    },
    {
      "cell_type": "code",
      "source": [
        "result4 = re.match('^He.*?(\\d+).*Demo$', content2)\n",
        "print(result4)\n",
        "print(result4.group(1))"
      ],
      "metadata": {
        "colab": {
          "base_uri": "https://localhost:8080/"
        },
        "id": "hfB0kGakdyeu",
        "outputId": "98753a5e-f5c6-4a28-9bd4-ade7b0aed7e9"
      },
      "execution_count": 30,
      "outputs": [
        {
          "output_type": "stream",
          "name": "stdout",
          "text": [
            "<re.Match object; span=(0, 40), match='Hello 1234567 World_This is a Regex Demo'>\n",
            "1234567\n"
          ]
        }
      ]
    },
    {
      "cell_type": "markdown",
      "source": [
        "Check what happens if use `.*?` symbol in the end of regex strings."
      ],
      "metadata": {
        "id": "LkGqfXfOeZvg"
      }
    },
    {
      "cell_type": "code",
      "source": [
        "content3='http://weibo.com/comment/kEraCN'\n",
        "result5=re.match('http.*?comment/(.*?)',content3)\n",
        "result6=re.match('http.*?comment/(.*)',content3)\n",
        "print('result5', result5.group(1))\n",
        "print('result6', result6.group(1))"
      ],
      "metadata": {
        "colab": {
          "base_uri": "https://localhost:8080/"
        },
        "id": "m6VJ0qpmeM79",
        "outputId": "fb1260b2-dc7a-436d-9cce-1821ace41cc4"
      },
      "execution_count": 31,
      "outputs": [
        {
          "output_type": "stream",
          "name": "stdout",
          "text": [
            "result5 \n",
            "result6 kEraCN\n"
          ]
        }
      ]
    },
    {
      "cell_type": "markdown",
      "source": [
        "As consequences, we will get nothing if we put lazy matching symbols in the end of regex string."
      ],
      "metadata": {
        "id": "aYlvZaOJftCZ"
      }
    },
    {
      "cell_type": "markdown",
      "source": [
        "#### Modifier\n",
        "Optional modifier to control match patterns."
      ],
      "metadata": {
        "id": "4sfDvZrRf889"
      }
    },
    {
      "cell_type": "code",
      "source": [
        "content4 = '''Hello 1234567 World_This\n",
        "is a Regex Demo\n",
        "'''"
      ],
      "metadata": {
        "id": "5XaCLxiGsFsq"
      },
      "execution_count": 32,
      "outputs": []
    },
    {
      "cell_type": "code",
      "source": [
        "#add change line symbol in this case\n",
        "result7 = re.match('^He.*?(\\d+).*?Demo$', content4)\n",
        "print(result7.group(1))\n",
        "#we get error"
      ],
      "metadata": {
        "colab": {
          "base_uri": "https://localhost:8080/",
          "height": 246
        },
        "id": "gyTS1qAUf2cj",
        "outputId": "058c597e-381e-48ab-de01-4986080d68a0"
      },
      "execution_count": 33,
      "outputs": [
        {
          "output_type": "error",
          "ename": "AttributeError",
          "evalue": "ignored",
          "traceback": [
            "\u001b[0;31m---------------------------------------------------------------------------\u001b[0m",
            "\u001b[0;31mAttributeError\u001b[0m                            Traceback (most recent call last)",
            "\u001b[0;32m<ipython-input-33-78667a6d77cb>\u001b[0m in \u001b[0;36m<module>\u001b[0;34m\u001b[0m\n\u001b[1;32m      1\u001b[0m \u001b[0;31m#add change line symbol in this case\u001b[0m\u001b[0;34m\u001b[0m\u001b[0;34m\u001b[0m\u001b[0;34m\u001b[0m\u001b[0m\n\u001b[1;32m      2\u001b[0m \u001b[0mresult7\u001b[0m \u001b[0;34m=\u001b[0m \u001b[0mre\u001b[0m\u001b[0;34m.\u001b[0m\u001b[0mmatch\u001b[0m\u001b[0;34m(\u001b[0m\u001b[0;34m'^He.*?(\\d+).*?Demo$'\u001b[0m\u001b[0;34m,\u001b[0m \u001b[0mcontent4\u001b[0m\u001b[0;34m)\u001b[0m\u001b[0;34m\u001b[0m\u001b[0;34m\u001b[0m\u001b[0m\n\u001b[0;32m----> 3\u001b[0;31m \u001b[0mprint\u001b[0m\u001b[0;34m(\u001b[0m\u001b[0mresult7\u001b[0m\u001b[0;34m.\u001b[0m\u001b[0mgroup\u001b[0m\u001b[0;34m(\u001b[0m\u001b[0;36m1\u001b[0m\u001b[0;34m)\u001b[0m\u001b[0;34m)\u001b[0m\u001b[0;34m\u001b[0m\u001b[0;34m\u001b[0m\u001b[0m\n\u001b[0m\u001b[1;32m      4\u001b[0m \u001b[0;31m#we get error\u001b[0m\u001b[0;34m\u001b[0m\u001b[0;34m\u001b[0m\u001b[0;34m\u001b[0m\u001b[0m\n",
            "\u001b[0;31mAttributeError\u001b[0m: 'NoneType' object has no attribute 'group'"
          ]
        }
      ]
    },
    {
      "cell_type": "markdown",
      "source": [
        "`.*?` can not match change lines symbol.To fix it, we add `re.S` to let the lazy match symbol include changing line."
      ],
      "metadata": {
        "id": "DWrT7QRzrlaA"
      }
    },
    {
      "cell_type": "code",
      "source": [
        "result8 = re.match('^He.*?(\\d+).*?Demo$', content4, re.S)\n",
        "print(result8.group(1))"
      ],
      "metadata": {
        "colab": {
          "base_uri": "https://localhost:8080/"
        },
        "id": "-DUM8fpTrv_1",
        "outputId": "b833e9b9-9bbe-452d-cc0d-f740eb49a802"
      },
      "execution_count": 34,
      "outputs": [
        {
          "output_type": "stream",
          "name": "stdout",
          "text": [
            "1234567\n"
          ]
        }
      ]
    },
    {
      "cell_type": "markdown",
      "source": [
        "##### Other Modifiers\n",
        "`re.l`: Performs case-insensitive matching.\n",
        "\n",
        "`re.L`: local-aware matching.Interprets words according to the current locale, affecting the *alphabetic group* (`\\w` and `\\W`), as well as *word boundary behavior*(`\\b` and `\\B`).\n",
        "\n",
        "`re.M`: Makes `$` match the end of a *line* and makes `^ ` match the start of any line, not just of a string.\n",
        "\n",
        "`re.U`:Interprets letters according to the Unicode character set\n",
        "\n",
        "`re.X`: permits more flexible regex syntax, ignoring whitespace and treating `#` as a *comment marker*."
      ],
      "metadata": {
        "id": "M-F5HPiftBOu"
      }
    },
    {
      "cell_type": "markdown",
      "source": [
        "### Escape Match\n",
        "- Situation: if we just want `.` to match content `.`, escaping from special representations\n",
        "- Method: use `\\` in front of it, sometimes we need `\\\\` to do the escape match"
      ],
      "metadata": {
        "id": "bwcEIJ9IuytV"
      }
    },
    {
      "cell_type": "code",
      "source": [
        "content5 = '(百度) www.baidu.com'\n",
        "result9 = re.match('\\(百度 \\) www\\.baidu\\.com',content5)\n",
        "print(result9)"
      ],
      "metadata": {
        "colab": {
          "base_uri": "https://localhost:8080/"
        },
        "id": "7yPOKJAfJysN",
        "outputId": "f764cea0-7e09-4569-be38-8f71ca3d045b"
      },
      "execution_count": 35,
      "outputs": [
        {
          "output_type": "stream",
          "name": "stdout",
          "text": [
            "None\n"
          ]
        }
      ]
    },
    {
      "cell_type": "markdown",
      "source": [
        "## Search\n",
        "- Span the whole content, then return the first successfully matched result.\n",
        "- While, `match` method is unsuccessful when the first string cannot match the first content."
      ],
      "metadata": {
        "id": "LUvKwhIIL907"
      }
    },
    {
      "cell_type": "code",
      "source": [
        "content6 = 'Extra stings Hello 1234567 World_This is a Regex Demo Extra stings'\n",
        "result10 = re.search('Hello.*?(\\d+).*?Demo', content6)\n",
        "print(result10)"
      ],
      "metadata": {
        "colab": {
          "base_uri": "https://localhost:8080/"
        },
        "id": "T9jKREizR0sp",
        "outputId": "8dbdfd52-be8a-460b-c935-d36978d807b2"
      },
      "execution_count": 36,
      "outputs": [
        {
          "output_type": "stream",
          "name": "stdout",
          "text": [
            "<re.Match object; span=(13, 53), match='Hello 1234567 World_This is a Regex Demo'>\n"
          ]
        }
      ]
    },
    {
      "cell_type": "markdown",
      "source": [
        "### Work with HTML"
      ],
      "metadata": {
        "id": "HDLAO9oVUoox"
      }
    },
    {
      "cell_type": "code",
      "source": [
        "html = '''<div id=\"songs-list\">\n",
        "<h2 class=\"title\"> Classical Songs </h2>\n",
        "<p class=\"introduction\">\n",
        "Classical Songs List\n",
        "</p>\n",
        "<ul id=\"list\" class=\"list-group\">\n",
        "<li data-view=\"2\"> You Know What? </li>\n",
        "<li data-view=\"7\">\n",
        "<a href=\"/2.mp3\" singer=\"Image Dragon\"> Bones </a>\n",
        "</li>\n",
        "<li data-view=\"4\" class=\"active\">\n",
        "<a href=\"/3.mp3\" singer=\"Donna Lewis\"> I could be the one </a>\n",
        "</li>\n",
        "<li data-view=\"6\"><a href=\"/4.mp3\" singer=\"salem ilese\"> Crypto Boy(Explicit) </a></li>\n",
        "<li data-view=\"5\"><a href=\"/5.mp3\" singer=\"Emma Bale\"> Cut Loose </a></li>\n",
        "<li data-view=\"5\">\n",
        "<a href=\"/6.mp3\" singer=\"Tone Damli\"> Stupid </a>\n",
        "</li>\n",
        "</ul>\n",
        "</div>'''"
      ],
      "metadata": {
        "id": "tWaIlrPqSK-S"
      },
      "execution_count": 37,
      "outputs": []
    },
    {
      "cell_type": "markdown",
      "source": [
        "To abstract the singer and songer names:\n",
        "`<li.*?active.*?singer=\"(.*?)\">(.*?)</a>`"
      ],
      "metadata": {
        "id": "3ofE2wqviAUm"
      }
    },
    {
      "cell_type": "code",
      "source": [
        "result11 = re.search('<li.*?active.*?singer=\"(.*?)\">(.*?)</a>', html, re.S) \n",
        "if result11:  \n",
        "    print(result11.group(1), result11.group(2))"
      ],
      "metadata": {
        "colab": {
          "base_uri": "https://localhost:8080/"
        },
        "id": "ni5VhCGVUSoP",
        "outputId": "fb50683a-e823-41ba-aae4-34b8c3e2bbe6"
      },
      "execution_count": 38,
      "outputs": [
        {
          "output_type": "stream",
          "name": "stdout",
          "text": [
            "Donna Lewis  I could be the one \n"
          ]
        }
      ]
    },
    {
      "cell_type": "code",
      "source": [
        "#without active in code\n",
        "result12 = re.search('<li.*?singer=\"(.*?)\">(.*?)</a>', html, re.S)\n",
        "if result12:  \n",
        "    print(result12.group(1), result12.group(2))"
      ],
      "metadata": {
        "colab": {
          "base_uri": "https://localhost:8080/"
        },
        "id": "NZtS16pFUdx_",
        "outputId": "8a80e559-b54a-4ead-d9f2-d8a017bbf74c"
      },
      "execution_count": 39,
      "outputs": [
        {
          "output_type": "stream",
          "name": "stdout",
          "text": [
            "Image Dragon  Bones \n"
          ]
        }
      ]
    },
    {
      "cell_type": "code",
      "source": [
        "#remove re.S in this case\n",
        "result13 = re.search('<li.*?singer=\"(.*?)\">(.*?)</a>', html)\n",
        "if result13:  \n",
        "    print(result13.group(1), result13.group(2))"
      ],
      "metadata": {
        "colab": {
          "base_uri": "https://localhost:8080/"
        },
        "id": "Uw39cKIaUi82",
        "outputId": "32db8aeb-5ebb-4c69-9e33-4f2d185c8920"
      },
      "execution_count": 40,
      "outputs": [
        {
          "output_type": "stream",
          "name": "stdout",
          "text": [
            "salem ilese  Crypto Boy(Explicit) \n"
          ]
        }
      ]
    },
    {
      "cell_type": "markdown",
      "source": [
        "## findall\n",
        "- Get **All/Multiple results** of regex and content matches\n",
        "\n",
        "In HTML case, we want to get resource link, singer name, and song name, with for loop."
      ],
      "metadata": {
        "id": "Y4horAIcii1j"
      }
    },
    {
      "cell_type": "code",
      "source": [
        "result14 = re.findall('<li.*?href=\"(.*?)\".*?singer=\"(.*?)\">(.*?)</a>', html, re.S)\n",
        "print(result14)  \n",
        "print(type(result14)) \n",
        "\n",
        "for result in result14:  \n",
        "    print(result)  \n",
        "    print(result[0], result[1], result[2]) #list the result use index"
      ],
      "metadata": {
        "colab": {
          "base_uri": "https://localhost:8080/"
        },
        "id": "MTeEZpiKiu_Z",
        "outputId": "cf17c328-e6ef-4df4-8ca1-92521301b9ee"
      },
      "execution_count": 41,
      "outputs": [
        {
          "output_type": "stream",
          "name": "stdout",
          "text": [
            "[('/2.mp3', 'Image Dragon', ' Bones '), ('/3.mp3', 'Donna Lewis', ' I could be the one '), ('/4.mp3', 'salem ilese', ' Crypto Boy(Explicit) '), ('/5.mp3', 'Emma Bale', ' Cut Loose '), ('/6.mp3', 'Tone Damli', ' Stupid ')]\n",
            "<class 'list'>\n",
            "('/2.mp3', 'Image Dragon', ' Bones ')\n",
            "/2.mp3 Image Dragon  Bones \n",
            "('/3.mp3', 'Donna Lewis', ' I could be the one ')\n",
            "/3.mp3 Donna Lewis  I could be the one \n",
            "('/4.mp3', 'salem ilese', ' Crypto Boy(Explicit) ')\n",
            "/4.mp3 salem ilese  Crypto Boy(Explicit) \n",
            "('/5.mp3', 'Emma Bale', ' Cut Loose ')\n",
            "/5.mp3 Emma Bale  Cut Loose \n",
            "('/6.mp3', 'Tone Damli', ' Stupid ')\n",
            "/6.mp3 Tone Damli  Stupid \n"
          ]
        }
      ]
    },
    {
      "cell_type": "markdown",
      "source": [
        "## sub\n",
        "- used to fix the content \n",
        "\n",
        "For example, remove all the numbers in the context.\n",
        "- `re.sub('regex need to remove','replace regex',centent)`"
      ],
      "metadata": {
        "id": "GrQIP3PRjVRd"
      }
    },
    {
      "cell_type": "code",
      "source": [
        "content7 = '54aK54yr5oiR54ix5L2g'\n",
        "content7 = re.sub('\\d+', '', content7)\n",
        "print(content7)"
      ],
      "metadata": {
        "colab": {
          "base_uri": "https://localhost:8080/"
        },
        "id": "Np6sqAYOkBLh",
        "outputId": "5a9b78ce-7bb5-4ae6-e575-b0b063d82ee3"
      },
      "execution_count": 42,
      "outputs": [
        {
          "output_type": "stream",
          "name": "stdout",
          "text": [
            "aKyroiRixLg\n"
          ]
        }
      ]
    },
    {
      "cell_type": "markdown",
      "source": [
        "We want to get song name only in HTML case with `sub`."
      ],
      "metadata": {
        "id": "ghTRSEtNkmiG"
      }
    },
    {
      "cell_type": "code",
      "source": [
        "html = re.sub('<a.*?>|</a>', '', html) #remove <a...></a> part, only remain the text\n",
        "print(html)\n",
        "\n",
        "result15 = re.findall('<li.*?>(.*?)</li>', html, re.S) #use findall() method to get song name\n",
        "for result in result15:\n",
        "    print(result.strip())"
      ],
      "metadata": {
        "colab": {
          "base_uri": "https://localhost:8080/"
        },
        "id": "lPkXq4chlV70",
        "outputId": "c66b757a-b30f-437b-cfc5-636b74c15b76"
      },
      "execution_count": 50,
      "outputs": [
        {
          "output_type": "stream",
          "name": "stdout",
          "text": [
            "<div id=\"songs-list\">\n",
            "<h2 class=\"title\"> Classical Songs </h2>\n",
            "<p class=\"introduction\">\n",
            "Classical Songs List\n",
            "</p>\n",
            "<ul id=\"list\" class=\"list-group\">\n",
            "<li data-view=\"2\"> You Know What? </li>\n",
            "<li data-view=\"7\">\n",
            " Bones \n",
            "</li>\n",
            "<li data-view=\"4\" class=\"active\">\n",
            " I could be the one \n",
            "</li>\n",
            "<li data-view=\"6\"> Crypto Boy(Explicit) </li>\n",
            "<li data-view=\"5\"> Cut Loose </li>\n",
            "<li data-view=\"5\">\n",
            " Stupid \n",
            "</li>\n",
            "</ul>\n",
            "</div>\n",
            "You Know What?\n",
            "Bones\n",
            "I could be the one\n",
            "Crypto Boy(Explicit)\n",
            "Cut Loose\n",
            "Stupid\n"
          ]
        }
      ]
    },
    {
      "cell_type": "markdown",
      "source": [
        "## compile\n",
        "Combine a regular expression pattern into pattern objects, which can be used for pattern matching in multiple times."
      ],
      "metadata": {
        "id": "QjTMcwxUl1LZ"
      }
    },
    {
      "cell_type": "code",
      "source": [
        "content8 = '2016-12-15 12:00'\n",
        "content9 = '2016-12-17 12:55'\n",
        "content10 = '2016-12-22 13:21'\n",
        "#remove the clock time xx:xx with compile and sub method\n",
        "pattern = re.compile('\\d{2}:\\d{2}')\n",
        "result16 = re.sub(pattern, '', content8)\n",
        "result17 = re.sub(pattern, '', content9)\n",
        "result18 = re.sub(pattern, '', content10)\n",
        "print(result16, result17, result18)"
      ],
      "metadata": {
        "colab": {
          "base_uri": "https://localhost:8080/"
        },
        "id": "VFTJToRlmUxN",
        "outputId": "7a3c8b0e-1b24-4935-e884-8fd962c2ff4e"
      },
      "execution_count": 51,
      "outputs": [
        {
          "output_type": "stream",
          "name": "stdout",
          "text": [
            "2016-12-15  2016-12-17  2016-12-22 \n"
          ]
        }
      ]
    }
  ]
}