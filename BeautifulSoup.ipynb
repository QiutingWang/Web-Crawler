{
  "nbformat": 4,
  "nbformat_minor": 0,
  "metadata": {
    "colab": {
      "provenance": []
    },
    "kernelspec": {
      "name": "python3",
      "display_name": "Python 3"
    },
    "language_info": {
      "name": "python"
    }
  },
  "cells": [
    {
      "cell_type": "markdown",
      "source": [
        "## Materials\n",
        "- BeautifulSoup Document: https://www.crummy.com/software/BeautifulSoup/bs4/doc/#\n",
        "- CSS Selector: https://www.w3school.com.cn/cssref/css_selectors.asp\n"
      ],
      "metadata": {
        "id": "fPVOIkOPcFmH"
      }
    },
    {
      "cell_type": "markdown",
      "source": [
        "## Interpreter:\n",
        "  - python `BS4` package: `BeautifulSoup(markup,'html.parser')`\n",
        "  - LXML HTML:`BeautifulSoup(markup, \"lxml\")`\n",
        "  - LXML XML: `BeautifulSoup(markup, \"xml\")`\n",
        "  - html5lib: `BeautifulSoup(markup, \"html5lib\")`\n",
        "\n",
        "## Decomposition and Name standard html statement(Kinds of Object):🌟\n",
        "```<tagName attributeName='attributeValue'>Affected Content<!--Comments and other special strings--></tagName>```"
      ],
      "metadata": {
        "id": "Xy5h8vhOPdc8"
      }
    },
    {
      "cell_type": "code",
      "source": [
        "pip install beautifulsoup4"
      ],
      "metadata": {
        "colab": {
          "base_uri": "https://localhost:8080/"
        },
        "id": "I2RZx1s3Plrl",
        "outputId": "ffccef42-294f-462b-a647-217111268d18"
      },
      "execution_count": 1,
      "outputs": [
        {
          "output_type": "stream",
          "name": "stdout",
          "text": [
            "Looking in indexes: https://pypi.org/simple, https://us-python.pkg.dev/colab-wheels/public/simple/\n",
            "Requirement already satisfied: beautifulsoup4 in /usr/local/lib/python3.7/dist-packages (4.6.3)\n"
          ]
        }
      ]
    },
    {
      "cell_type": "code",
      "source": [
        "from bs4 import BeautifulSoup"
      ],
      "metadata": {
        "id": "wtKGLQ0fbCG5"
      },
      "execution_count": 2,
      "outputs": []
    },
    {
      "cell_type": "code",
      "source": [
        "#Example: interprete use lxml\n",
        "#create a bs instance\n",
        "soup=BeautifulSoup('<p>Hello World</p>','lxml')\n",
        "print(soup.p.string)"
      ],
      "metadata": {
        "colab": {
          "base_uri": "https://localhost:8080/"
        },
        "id": "2L7K_ANTaqjc",
        "outputId": "b9f4b712-0903-4b64-deb4-963cc047d7d8"
      },
      "execution_count": 3,
      "outputs": [
        {
          "output_type": "stream",
          "name": "stdout",
          "text": [
            "Hello World\n"
          ]
        }
      ]
    },
    {
      "cell_type": "markdown",
      "source": [
        "## Usage of BeautifulSoup"
      ],
      "metadata": {
        "id": "nJuC4-iib5w3"
      }
    },
    {
      "cell_type": "code",
      "source": [
        "#Example:\n",
        "html = \"\"\"\n",
        "<html><head><title>The Dormouse's story</title></head>\n",
        "<body>\n",
        "<p class=\"title\" name=\"dromouse\"><b>The Dormouse's story</b></p>\n",
        "<p class=\"story\">Once upon a time there were three little sisters; and their names were\n",
        "<a href=\"http://example.com/elsie\" class=\"sister\" id=\"link1\"><!-- Elsie --></a>,\n",
        "<a href=\"http://example.com/lacie\" class=\"sister\" id=\"link2\">Lacie</a> and\n",
        "<a href=\"http://example.com/tillie\" class=\"sister\" id=\"link3\">Tillie</a>;\n",
        "and they lived at the bottom of a well.</p>\n",
        "<p class=\"story\">...</p>\n",
        "\"\"\"\n",
        "#the html text above without a completed html structure\n",
        "soup = BeautifulSoup(html, 'lxml') #BeautifulSoup(content,'interpreter_type'),correcting the html format automatically.\n",
        "print(soup.prettify()) #turn a Beautiful Soup parse tree into a nicely formatted Unicode string\n",
        "print(soup.title.string) #use .title.string method to print the text content of <title>...</title> related."
      ],
      "metadata": {
        "id": "fqrlsizbb-gI",
        "colab": {
          "base_uri": "https://localhost:8080/"
        },
        "outputId": "78c44510-9264-4b1f-a88e-46892aab3fdf"
      },
      "execution_count": 4,
      "outputs": [
        {
          "output_type": "stream",
          "name": "stdout",
          "text": [
            "<html>\n",
            " <head>\n",
            "  <title>\n",
            "   The Dormouse's story\n",
            "  </title>\n",
            " </head>\n",
            " <body>\n",
            "  <p class=\"title\" name=\"dromouse\">\n",
            "   <b>\n",
            "    The Dormouse's story\n",
            "   </b>\n",
            "  </p>\n",
            "  <p class=\"story\">\n",
            "   Once upon a time there were three little sisters; and their names were\n",
            "   <a class=\"sister\" href=\"http://example.com/elsie\" id=\"link1\">\n",
            "    <!-- Elsie -->\n",
            "   </a>\n",
            "   ,\n",
            "   <a class=\"sister\" href=\"http://example.com/lacie\" id=\"link2\">\n",
            "    Lacie\n",
            "   </a>\n",
            "   and\n",
            "   <a class=\"sister\" href=\"http://example.com/tillie\" id=\"link3\">\n",
            "    Tillie\n",
            "   </a>\n",
            "   ;\n",
            "and they lived at the bottom of a well.\n",
            "  </p>\n",
            "  <p class=\"story\">\n",
            "   ...\n",
            "  </p>\n",
            " </body>\n",
            "</html>\n",
            "The Dormouse's story\n"
          ]
        }
      ]
    },
    {
      "cell_type": "markdown",
      "source": [
        "## Node Selector\n",
        "- Method: Just use the **name** of node to select the node, then change it to `string` to get the *content* in the node.(`.tagName.string`)\n",
        "- After the selector, the outputs are all includes the corresponding tags.\n",
        "- If there are multiple matched nodes, the selector always gives us the **first** html node, neglecting the rest of its kind.\n",
        "\n",
        "### Get Content in the Node"
      ],
      "metadata": {
        "id": "7xpNgqrHgVoz"
      }
    },
    {
      "cell_type": "code",
      "source": [
        "#we use the html stated above\n",
        "print(soup.title)\n",
        "print(type(soup.title)) #bs4.element.Tag is the important data structure in bs4\n",
        "print(soup.title.string)\n",
        "print(soup.head)\n",
        "print(soup.p)"
      ],
      "metadata": {
        "colab": {
          "base_uri": "https://localhost:8080/"
        },
        "id": "Q05fp4fyJHDB",
        "outputId": "9113b2ff-e36c-475f-d8f8-d80fa67110d0"
      },
      "execution_count": 5,
      "outputs": [
        {
          "output_type": "stream",
          "name": "stdout",
          "text": [
            "<title>The Dormouse's story</title>\n",
            "<class 'bs4.element.Tag'>\n",
            "The Dormouse's story\n",
            "<head><title>The Dormouse's story</title></head>\n",
            "<p class=\"title\" name=\"dromouse\"><b>The Dormouse's story</b></p>\n"
          ]
        }
      ]
    },
    {
      "cell_type": "markdown",
      "source": [
        "### Get Name of the Node\n",
        "- use `.tagName.name` method"
      ],
      "metadata": {
        "id": "2IQibsbxLigL"
      }
    },
    {
      "cell_type": "code",
      "source": [
        "print(soup.title.name)"
      ],
      "metadata": {
        "colab": {
          "base_uri": "https://localhost:8080/"
        },
        "id": "76460KaCLlsA",
        "outputId": "896c80f8-6adb-416d-dccf-da8beed008ed"
      },
      "execution_count": 6,
      "outputs": [
        {
          "output_type": "stream",
          "name": "stdout",
          "text": [
            "title\n"
          ]
        }
      ]
    },
    {
      "cell_type": "code",
      "source": [
        "print(soup.p.name)"
      ],
      "metadata": {
        "colab": {
          "base_uri": "https://localhost:8080/"
        },
        "id": "X3Y1BhIcMyeC",
        "outputId": "49b7853a-db85-42d6-ed6a-c443b868478f"
      },
      "execution_count": 7,
      "outputs": [
        {
          "output_type": "stream",
          "name": "stdout",
          "text": [
            "p\n"
          ]
        }
      ]
    },
    {
      "cell_type": "markdown",
      "source": [
        "### Get Attribute of Node\n",
        "- use `.tagName.attrs` method\n",
        "- each node may have multiple attributes, we select this node, getting **all** attributes.\n",
        "- Return as *dictionary*:{key:value}"
      ],
      "metadata": {
        "id": "yU96D5JrMQmO"
      }
    },
    {
      "cell_type": "code",
      "source": [
        "print(soup.a.attrs)"
      ],
      "metadata": {
        "colab": {
          "base_uri": "https://localhost:8080/"
        },
        "id": "qbsENNFEMaAl",
        "outputId": "fc1c9611-8672-4f3e-f536-8aad20c9ea28"
      },
      "execution_count": 8,
      "outputs": [
        {
          "output_type": "stream",
          "name": "stdout",
          "text": [
            "{'href': 'http://example.com/elsie', 'class': ['sister'], 'id': 'link1'}\n"
          ]
        }
      ]
    },
    {
      "cell_type": "code",
      "source": [
        "print(soup.p.attrs)\n",
        "print(soup.p.attrs['name'])"
      ],
      "metadata": {
        "colab": {
          "base_uri": "https://localhost:8080/"
        },
        "id": "glnBtQ-AMs1w",
        "outputId": "29e10679-90f5-4c47-c4b5-d978b4e40a5d"
      },
      "execution_count": 9,
      "outputs": [
        {
          "output_type": "stream",
          "name": "stdout",
          "text": [
            "{'class': ['title'], 'name': 'dromouse'}\n",
            "dromouse\n"
          ]
        }
      ]
    },
    {
      "cell_type": "code",
      "source": [
        "#get the attrs value using index\n",
        "print(soup.p['name'])\n",
        "print(soup.p['class'])\n",
        "print(soup.a['id'])\n",
        "#returns as string or list. If the value is only one, then return as string. If it has mutiple values,return as a list."
      ],
      "metadata": {
        "colab": {
          "base_uri": "https://localhost:8080/"
        },
        "id": "V55Sm07XPLFM",
        "outputId": "95b6a5dd-17ef-4678-f633-4916993152a7"
      },
      "execution_count": 10,
      "outputs": [
        {
          "output_type": "stream",
          "name": "stdout",
          "text": [
            "dromouse\n",
            "['title']\n",
            "link1\n"
          ]
        }
      ]
    },
    {
      "cell_type": "markdown",
      "source": [
        "### Nested Selection\n",
        "- Get one element, then we get the element inside the first element we got.\n",
        "- Note: `soup.element1.element2`"
      ],
      "metadata": {
        "id": "lg3qWotPPvzr"
      }
    },
    {
      "cell_type": "code",
      "source": [
        "html1 = \"\"\"\n",
        "<html><head><title>The Dormouse's story</title></head>\n",
        "<body>\n",
        "\"\"\"\n",
        "soup1 = BeautifulSoup(html1, 'lxml')\n",
        "#get head element, then select title element inside head\n",
        "print(soup1.head.title)\n",
        "print(type(soup1.head.title))\n",
        "print(soup1.head.title.string)"
      ],
      "metadata": {
        "colab": {
          "base_uri": "https://localhost:8080/"
        },
        "id": "g6xdkz5qQFaq",
        "outputId": "6fd80d70-bc17-460c-bc6f-6d1a272a98ff"
      },
      "execution_count": 11,
      "outputs": [
        {
          "output_type": "stream",
          "name": "stdout",
          "text": [
            "<title>The Dormouse's story</title>\n",
            "<class 'bs4.element.Tag'>\n",
            "The Dormouse's story\n"
          ]
        }
      ]
    },
    {
      "cell_type": "markdown",
      "source": [
        "## Associated Selection\n",
        "Sometimes we cannot get the element we want at one timetime,we need select one element, then get its child node, parent node, sibling nodes.\n",
        "### Child and Descendant Node\n",
        "- use `soup.element.contents`\n",
        "   - It returns contains nodes and content in a list.\n",
        "   - All the returns are **direct** child nodes.\n",
        "- use `soup.element.children`\n",
        "   - Return as a generator type with `for` loop to illustrate the outcomes\n",
        "     - Generator: looping while computing mechanism.\n",
        "   - All the returns are **direct** child nodes.\n",
        "- use `soup.element.descendant`\n",
        "   - we get all children nodes including direct and indirect child nodes.\n",
        "   - Return as a generator type\n"
      ],
      "metadata": {
        "id": "iaTAl3YFU9O5"
      }
    },
    {
      "cell_type": "code",
      "source": [
        "html = \"\"\"\n",
        "<html>\n",
        "    <head>\n",
        "        <title>The Dormouse's story</title>\n",
        "    </head>\n",
        "    <body>\n",
        "        <p class=\"story\">\n",
        "            Once upon a time there were three little sisters; and their names were\n",
        "            <a href=\"http://example.com/elsie\" class=\"sister\" id=\"link1\">\n",
        "                <span>Elsie</span>\n",
        "            </a>\n",
        "            <a href=\"http://example.com/lacie\" class=\"sister\" id=\"link2\">Lacie</a> \n",
        "            and\n",
        "            <a href=\"http://example.com/tillie\" class=\"sister\" id=\"link3\">Tillie</a>\n",
        "            and they lived at the bottom of a well.\n",
        "        </p>\n",
        "        <p class=\"story\">...</p>\n",
        "\"\"\"\n",
        "soup = BeautifulSoup(html, 'lxml')\n",
        "print(soup.p.contents)"
      ],
      "metadata": {
        "colab": {
          "base_uri": "https://localhost:8080/"
        },
        "id": "P3X_UoOpV0-2",
        "outputId": "6a98f6b1-a304-4706-a206-547ba63143c9"
      },
      "execution_count": 12,
      "outputs": [
        {
          "output_type": "stream",
          "name": "stdout",
          "text": [
            "['\\n            Once upon a time there were three little sisters; and their names were\\n            ', <a class=\"sister\" href=\"http://example.com/elsie\" id=\"link1\">\n",
            "<span>Elsie</span>\n",
            "</a>, '\\n', <a class=\"sister\" href=\"http://example.com/lacie\" id=\"link2\">Lacie</a>, ' \\n            and\\n            ', <a class=\"sister\" href=\"http://example.com/tillie\" id=\"link3\">Tillie</a>, '\\n            and they lived at the bottom of a well.\\n        ']\n"
          ]
        }
      ]
    },
    {
      "cell_type": "code",
      "source": [
        "print(soup.p.children)\n",
        "for i, child in enumerate(soup.p.children):\n",
        "    print(i, child)"
      ],
      "metadata": {
        "colab": {
          "base_uri": "https://localhost:8080/"
        },
        "id": "ndR8AmYkYU6f",
        "outputId": "714acf1c-66a0-4e4b-a7d1-70788da65b85"
      },
      "execution_count": 13,
      "outputs": [
        {
          "output_type": "stream",
          "name": "stdout",
          "text": [
            "<list_iterator object at 0x7f6a9f89add0>\n",
            "0 \n",
            "            Once upon a time there were three little sisters; and their names were\n",
            "            \n",
            "1 <a class=\"sister\" href=\"http://example.com/elsie\" id=\"link1\">\n",
            "<span>Elsie</span>\n",
            "</a>\n",
            "2 \n",
            "\n",
            "3 <a class=\"sister\" href=\"http://example.com/lacie\" id=\"link2\">Lacie</a>\n",
            "4  \n",
            "            and\n",
            "            \n",
            "5 <a class=\"sister\" href=\"http://example.com/tillie\" id=\"link3\">Tillie</a>\n",
            "6 \n",
            "            and they lived at the bottom of a well.\n",
            "        \n"
          ]
        }
      ]
    },
    {
      "cell_type": "code",
      "source": [
        "print(soup.p.descendants)\n",
        "for i, child in enumerate(soup.p.descendants):\n",
        "    print(i, child)"
      ],
      "metadata": {
        "colab": {
          "base_uri": "https://localhost:8080/"
        },
        "id": "UacY1r4tY8qu",
        "outputId": "6699d211-c216-4aae-8cf0-0ea917f62e36"
      },
      "execution_count": 14,
      "outputs": [
        {
          "output_type": "stream",
          "name": "stdout",
          "text": [
            "<generator object Tag.descendants at 0x7f6a9f89c4d0>\n",
            "0 \n",
            "            Once upon a time there were three little sisters; and their names were\n",
            "            \n",
            "1 <a class=\"sister\" href=\"http://example.com/elsie\" id=\"link1\">\n",
            "<span>Elsie</span>\n",
            "</a>\n",
            "2 \n",
            "\n",
            "3 <span>Elsie</span>\n",
            "4 Elsie\n",
            "5 \n",
            "\n",
            "6 \n",
            "\n",
            "7 <a class=\"sister\" href=\"http://example.com/lacie\" id=\"link2\">Lacie</a>\n",
            "8 Lacie\n",
            "9  \n",
            "            and\n",
            "            \n",
            "10 <a class=\"sister\" href=\"http://example.com/tillie\" id=\"link3\">Tillie</a>\n",
            "11 Tillie\n",
            "12 \n",
            "            and they lived at the bottom of a well.\n",
            "        \n"
          ]
        }
      ]
    },
    {
      "cell_type": "markdown",
      "source": [
        "### Parent and Ancestor Nodes\n",
        "- Use `soup.element.parent`\n",
        "   - get the parent of one node (direct parent element)\n",
        "- Use `soup.element.parents`\n",
        "   - get all ancestor nodes at one time\n",
        "   - return as a generator type\n",
        "   - use `list(enumerate(soup.element.parents))` method to list the return."
      ],
      "metadata": {
        "id": "ziKDVmNdZdJj"
      }
    },
    {
      "cell_type": "code",
      "source": [
        "html = \"\"\"\n",
        "<html>\n",
        "    <head>\n",
        "        <title>The Dormouse's story</title>\n",
        "    </head>\n",
        "    <body>\n",
        "        <p class=\"story\">\n",
        "            Once upon a time there were three little sisters; and their names were\n",
        "            <a href=\"http://example.com/elsie\" class=\"sister\" id=\"link1\">\n",
        "                <span>Elsie</span>\n",
        "            </a>\n",
        "        </p>\n",
        "        <p class=\"story\">...</p>\n",
        "\"\"\"\n",
        "soup = BeautifulSoup(html, 'lxml')\n",
        "print(soup.a.parent)"
      ],
      "metadata": {
        "colab": {
          "base_uri": "https://localhost:8080/"
        },
        "id": "DEFLBAopZ4CU",
        "outputId": "23fe87e0-8bc2-4322-946c-7cf6f95ce1f5"
      },
      "execution_count": 15,
      "outputs": [
        {
          "output_type": "stream",
          "name": "stdout",
          "text": [
            "<p class=\"story\">\n",
            "            Once upon a time there were three little sisters; and their names were\n",
            "            <a class=\"sister\" href=\"http://example.com/elsie\" id=\"link1\">\n",
            "<span>Elsie</span>\n",
            "</a>\n",
            "</p>\n"
          ]
        }
      ]
    },
    {
      "cell_type": "code",
      "source": [
        "print(soup.a.parents)\n",
        "print(type(soup.a.parents))\n",
        "#use list() to get index and content\n",
        "print(list(enumerate(soup.a.parents)))"
      ],
      "metadata": {
        "colab": {
          "base_uri": "https://localhost:8080/"
        },
        "id": "q-La641RbNRM",
        "outputId": "130ab988-87a5-4a9c-dd17-7462f7daf925"
      },
      "execution_count": 16,
      "outputs": [
        {
          "output_type": "stream",
          "name": "stdout",
          "text": [
            "<generator object PageElement.parents at 0x7f6a9f8ffc50>\n",
            "<class 'generator'>\n",
            "[(0, <p class=\"story\">\n",
            "            Once upon a time there were three little sisters; and their names were\n",
            "            <a class=\"sister\" href=\"http://example.com/elsie\" id=\"link1\">\n",
            "<span>Elsie</span>\n",
            "</a>\n",
            "</p>), (1, <body>\n",
            "<p class=\"story\">\n",
            "            Once upon a time there were three little sisters; and their names were\n",
            "            <a class=\"sister\" href=\"http://example.com/elsie\" id=\"link1\">\n",
            "<span>Elsie</span>\n",
            "</a>\n",
            "</p>\n",
            "<p class=\"story\">...</p>\n",
            "</body>), (2, <html>\n",
            "<head>\n",
            "<title>The Dormouse's story</title>\n",
            "</head>\n",
            "<body>\n",
            "<p class=\"story\">\n",
            "            Once upon a time there were three little sisters; and their names were\n",
            "            <a class=\"sister\" href=\"http://example.com/elsie\" id=\"link1\">\n",
            "<span>Elsie</span>\n",
            "</a>\n",
            "</p>\n",
            "<p class=\"story\">...</p>\n",
            "</body></html>), (3, <html>\n",
            "<head>\n",
            "<title>The Dormouse's story</title>\n",
            "</head>\n",
            "<body>\n",
            "<p class=\"story\">\n",
            "            Once upon a time there were three little sisters; and their names were\n",
            "            <a class=\"sister\" href=\"http://example.com/elsie\" id=\"link1\">\n",
            "<span>Elsie</span>\n",
            "</a>\n",
            "</p>\n",
            "<p class=\"story\">...</p>\n",
            "</body></html>)]\n"
          ]
        }
      ]
    },
    {
      "cell_type": "markdown",
      "source": [
        "### Sibling Nodes\n",
        "- use `soup.element.next_sibling` and `soup.element.previous_sibling` to get direct one adjacent result.\n",
        "-  `list(enumerate(soup.element.next_siblings))` and `list(enumerate(soup.element.previous_siblings))`method to get mutiple results"
      ],
      "metadata": {
        "id": "GXVVoUeIcEPm"
      }
    },
    {
      "cell_type": "code",
      "source": [
        "html = \"\"\"\n",
        "<html>\n",
        "    <body>\n",
        "        <p class=\"story\">\n",
        "            Once upon a time there were three little sisters; and their names were\n",
        "            <a href=\"http://example.com/elsie\" class=\"sister\" id=\"link1\">\n",
        "                <span>Elsie</span>\n",
        "            </a>\n",
        "            Hello\n",
        "            <a href=\"http://example.com/lacie\" class=\"sister\" id=\"link2\">Lacie</a> \n",
        "            and\n",
        "            <a href=\"http://example.com/tillie\" class=\"sister\" id=\"link3\">Tillie</a>\n",
        "            and they lived at the bottom of a well.\n",
        "        </p>\n",
        "\"\"\"\n",
        "soup = BeautifulSoup(html, 'lxml')\n",
        "print('Next Sibling', soup.a.next_sibling)\n",
        "print('Prev Sibling', soup.a.previous_sibling)\n",
        "print('Next Siblings', list(enumerate(soup.a.next_siblings)))\n",
        "print('Prev Siblings', list(enumerate(soup.a.previous_siblings)))"
      ],
      "metadata": {
        "colab": {
          "base_uri": "https://localhost:8080/"
        },
        "id": "S1SfewWjcQ7s",
        "outputId": "cfbd1197-77b6-4595-e498-0f3d9697f431"
      },
      "execution_count": 17,
      "outputs": [
        {
          "output_type": "stream",
          "name": "stdout",
          "text": [
            "Next Sibling \n",
            "            Hello\n",
            "            \n",
            "Prev Sibling \n",
            "            Once upon a time there were three little sisters; and their names were\n",
            "            \n",
            "Next Siblings [(0, '\\n            Hello\\n            '), (1, <a class=\"sister\" href=\"http://example.com/lacie\" id=\"link2\">Lacie</a>), (2, ' \\n            and\\n            '), (3, <a class=\"sister\" href=\"http://example.com/tillie\" id=\"link3\">Tillie</a>), (4, '\\n            and they lived at the bottom of a well.\\n        ')]\n",
            "Prev Siblings [(0, '\\n            Once upon a time there were three little sisters; and their names were\\n            ')]\n"
          ]
        }
      ]
    },
    {
      "cell_type": "markdown",
      "source": [
        "### Abstract Information(content, attribute)\n"
      ],
      "metadata": {
        "id": "kCI_AbZ9dIZ4"
      }
    },
    {
      "cell_type": "code",
      "source": [
        "html = \"\"\"\n",
        "<html>\n",
        "    <body>\n",
        "        <p class=\"story\">\n",
        "            Once upon a time there were three little sisters; and their names were\n",
        "            <a href=\"http://example.com/elsie\" class=\"sister\" id=\"link1\">Bob</a><a href=\"http://example.com/lacie\" class=\"sister\" id=\"link2\">Lacie</a> \n",
        "        </p>\n",
        "\"\"\"\n",
        "soup = BeautifulSoup(html, 'lxml')\n",
        "#if it return single node, we change it to string to get content\n",
        "print('Next Sibling:')\n",
        "print(type(soup.a.next_sibling))\n",
        "print(soup.a.next_sibling)\n",
        "print(soup.a.next_sibling.string)\n",
        "#if the returns type is generator,we convert it into list and index it to get element\n",
        "print('Parent:')\n",
        "print(type(soup.a.parents))\n",
        "print(list(soup.a.parents)[0])\n",
        "print(list(soup.a.parents)[0].attrs['class'])"
      ],
      "metadata": {
        "colab": {
          "base_uri": "https://localhost:8080/"
        },
        "id": "H78JKrd9k6CP",
        "outputId": "76704270-d7da-419c-85df-529d9a248a27"
      },
      "execution_count": 18,
      "outputs": [
        {
          "output_type": "stream",
          "name": "stdout",
          "text": [
            "Next Sibling:\n",
            "<class 'bs4.element.Tag'>\n",
            "<a class=\"sister\" href=\"http://example.com/lacie\" id=\"link2\">Lacie</a>\n",
            "Lacie\n",
            "Parent:\n",
            "<class 'generator'>\n",
            "<p class=\"story\">\n",
            "            Once upon a time there were three little sisters; and their names were\n",
            "            <a class=\"sister\" href=\"http://example.com/elsie\" id=\"link1\">Bob</a><a class=\"sister\" href=\"http://example.com/lacie\" id=\"link2\">Lacie</a>\n",
            "</p>\n",
            "['story']\n"
          ]
        }
      ]
    },
    {
      "cell_type": "markdown",
      "source": [
        "## Searching the Tree\n",
        "### find_all\n",
        "   - get the elements with specific contrains\n",
        "   - method signature\n",
        "   ```find_all(name, attrs, recursive, string, limit, **kwargs)```\n",
        "     - `string`: search for strings instead of tags\n",
        "     - pass in a number for `limit`.EG: `soup.find_all(\"a\", limit=2)`\n",
        "     - `recursive`: If you only want to consider direct children, passing in `recursive=False`. By default, it examines all the descendants of tag input.\n",
        "\n",
        "#### name\n",
        "  - only consider tags with certain names\n",
        "  - `soup.find_all(name=...)`\n",
        "  - return in a list if it contains multiple results.\n"
      ],
      "metadata": {
        "id": "WqG9uG0Il6uv"
      }
    },
    {
      "cell_type": "code",
      "source": [
        "html='''\n",
        "<div class=\"panel\">\n",
        "    <div class=\"panel-heading\">\n",
        "        <h4>Hello</h4>\n",
        "    </div>\n",
        "    <div class=\"panel-body\">\n",
        "        <ul class=\"list\" id=\"list-1\">\n",
        "            <li class=\"element\">Foo</li>\n",
        "            <li class=\"element\">Bar</li>\n",
        "            <li class=\"element\">Jay</li>\n",
        "        </ul>\n",
        "        <ul class=\"list list-small\" id=\"list-2\">\n",
        "            <li class=\"element\">Foo</li>\n",
        "            <li class=\"element\">Bar</li>\n",
        "        </ul>\n",
        "    </div>\n",
        "</div>\n",
        "'''\n",
        "soup = BeautifulSoup(html, 'lxml')\n",
        "print(soup.find_all(name='ul')) #return as a list with length equals 2\n",
        "print(type(soup.find_all(name='ul')[0]))"
      ],
      "metadata": {
        "colab": {
          "base_uri": "https://localhost:8080/"
        },
        "id": "X_BHSUq6mOKs",
        "outputId": "ba832f4d-e518-4ef5-c208-eac06beeac53"
      },
      "execution_count": 19,
      "outputs": [
        {
          "output_type": "stream",
          "name": "stdout",
          "text": [
            "[<ul class=\"list\" id=\"list-1\">\n",
            "<li class=\"element\">Foo</li>\n",
            "<li class=\"element\">Bar</li>\n",
            "<li class=\"element\">Jay</li>\n",
            "</ul>, <ul class=\"list list-small\" id=\"list-2\">\n",
            "<li class=\"element\">Foo</li>\n",
            "<li class=\"element\">Bar</li>\n",
            "</ul>]\n",
            "<class 'bs4.element.Tag'>\n"
          ]
        }
      ]
    },
    {
      "cell_type": "code",
      "source": [
        "#get <li> with for loop\n",
        "for ul in soup.find_all(name='ul'):\n",
        "    print(ul.find_all(name='li'))"
      ],
      "metadata": {
        "colab": {
          "base_uri": "https://localhost:8080/"
        },
        "id": "0p3moZSmp0Oo",
        "outputId": "8c1efb3d-8449-40e2-d4bf-726e1ab448ba"
      },
      "execution_count": 20,
      "outputs": [
        {
          "output_type": "stream",
          "name": "stdout",
          "text": [
            "[<li class=\"element\">Foo</li>, <li class=\"element\">Bar</li>, <li class=\"element\">Jay</li>]\n",
            "[<li class=\"element\">Foo</li>, <li class=\"element\">Bar</li>]\n"
          ]
        }
      ]
    },
    {
      "cell_type": "code",
      "source": [
        "for li in ul.find_all(name='li'):\n",
        "        print(li.string)"
      ],
      "metadata": {
        "colab": {
          "base_uri": "https://localhost:8080/"
        },
        "id": "ddZ3SF67p_-X",
        "outputId": "e92f6575-4553-4c37-c151-12b6045be1fe"
      },
      "execution_count": 21,
      "outputs": [
        {
          "output_type": "stream",
          "name": "stdout",
          "text": [
            "Foo\n",
            "Bar\n"
          ]
        }
      ]
    },
    {
      "cell_type": "markdown",
      "source": [
        "#### attrs\n",
        "- `soup.find_all(attrs={key:value})`\n",
        "   - return as a list\n",
        "- without assigning attrs values, simply use `soup.find_all(attributeName=attributeValue)`"
      ],
      "metadata": {
        "id": "7xHObWKWqHB5"
      }
    },
    {
      "cell_type": "code",
      "source": [
        "print(soup.find_all(attrs={'id': 'list-2'}))\n",
        "print(soup.find_all(attrs={'class': 'panel-heading'}))"
      ],
      "metadata": {
        "colab": {
          "base_uri": "https://localhost:8080/"
        },
        "id": "ywNP6zysqLlc",
        "outputId": "86d444df-9328-46f0-93f4-38d3b86b4d1c"
      },
      "execution_count": 22,
      "outputs": [
        {
          "output_type": "stream",
          "name": "stdout",
          "text": [
            "[<ul class=\"list list-small\" id=\"list-2\">\n",
            "<li class=\"element\">Foo</li>\n",
            "<li class=\"element\">Bar</li>\n",
            "</ul>]\n",
            "[<div class=\"panel-heading\">\n",
            "<h4>Hello</h4>\n",
            "</div>]\n"
          ]
        }
      ]
    },
    {
      "cell_type": "code",
      "source": [
        "print(soup.find_all(id='list-2'))\n",
        "print(soup.find_all(class_='panel-heading')) #need to add an underline behind class as a keyword argument"
      ],
      "metadata": {
        "colab": {
          "base_uri": "https://localhost:8080/"
        },
        "id": "LH2DdP4nr2bJ",
        "outputId": "ed2dcc4f-903b-4c25-9d00-f4b6e8625b9a"
      },
      "execution_count": 23,
      "outputs": [
        {
          "output_type": "stream",
          "name": "stdout",
          "text": [
            "[<ul class=\"list list-small\" id=\"list-2\">\n",
            "<li class=\"element\">Foo</li>\n",
            "<li class=\"element\">Bar</li>\n",
            "</ul>]\n",
            "[<div class=\"panel-heading\">\n",
            "<h4>Hello</h4>\n",
            "</div>]\n"
          ]
        }
      ]
    },
    {
      "cell_type": "markdown",
      "source": [
        "#### text\n",
        "- match the text, the input can be regular expression or string."
      ],
      "metadata": {
        "id": "TT13AEhRsJV_"
      }
    },
    {
      "cell_type": "code",
      "source": [
        "import re\n",
        "html='''\n",
        "<div class=\"panel\">\n",
        "    <div class=\"panel-body\">\n",
        "        <a>Hello, this is a link</a>\n",
        "        <a>Hello, this is a link, too</a>\n",
        "    </div>\n",
        "</div>\n",
        "'''\n",
        "soup = BeautifulSoup(html, 'lxml')\n",
        "print(soup.find_all(text=re.compile('link')))"
      ],
      "metadata": {
        "colab": {
          "base_uri": "https://localhost:8080/"
        },
        "id": "y42ZOZfhsOGn",
        "outputId": "65b7d4f0-1d28-4436-dd98-634137d65d57"
      },
      "execution_count": 24,
      "outputs": [
        {
          "output_type": "stream",
          "name": "stdout",
          "text": [
            "['Hello, this is a link', 'Hello, this is a link, too']\n"
          ]
        }
      ]
    },
    {
      "cell_type": "markdown",
      "source": [
        "### find\n",
        "- only return **one** matched element, while find_all returns all required matched elements.\n",
        "- return as an element, not as a list\n",
        "- `find(name, attrs, recursive, string, **kwargs)`, by default, limit=1\n",
        "- if it can find nothing, it will return *None*.\n",
        "\n"
      ],
      "metadata": {
        "id": "KMf6rpfqs1aX"
      }
    },
    {
      "cell_type": "code",
      "source": [
        "html='''\n",
        "<div class=\"panel\">\n",
        "    <div class=\"panel-heading\">\n",
        "        <h4>Hello</h4>\n",
        "    </div>\n",
        "    <div class=\"panel-body\">\n",
        "        <ul class=\"list\" id=\"list-1\">\n",
        "            <li class=\"element\">Foo</li>\n",
        "            <li class=\"element\">Bar</li>\n",
        "            <li class=\"element\">Jay</li>\n",
        "        </ul>\n",
        "        <ul class=\"list list-small\" id=\"list-2\">\n",
        "            <li class=\"element\">Foo</li>\n",
        "            <li class=\"element\">Bar</li>\n",
        "        </ul>\n",
        "    </div>\n",
        "</div>\n",
        "'''\n",
        "soup = BeautifulSoup(html, 'lxml')\n",
        "print(soup.find(name='ul'))\n",
        "print(type(soup.find(name='ul')))\n",
        "print(soup.find(class_='list'))"
      ],
      "metadata": {
        "colab": {
          "base_uri": "https://localhost:8080/"
        },
        "id": "06p1pCEVtCv7",
        "outputId": "cc80cdaa-566d-4708-cf97-3567faeb83e6"
      },
      "execution_count": 25,
      "outputs": [
        {
          "output_type": "stream",
          "name": "stdout",
          "text": [
            "<ul class=\"list\" id=\"list-1\">\n",
            "<li class=\"element\">Foo</li>\n",
            "<li class=\"element\">Bar</li>\n",
            "<li class=\"element\">Jay</li>\n",
            "</ul>\n",
            "<class 'bs4.element.Tag'>\n",
            "<ul class=\"list\" id=\"list-1\">\n",
            "<li class=\"element\">Foo</li>\n",
            "<li class=\"element\">Bar</li>\n",
            "<li class=\"element\">Jay</li>\n",
            "</ul>\n"
          ]
        }
      ]
    },
    {
      "cell_type": "markdown",
      "source": [
        "## CSS Selector\n",
        "- use `soup.select()` with correct CSS selector format.\n",
        "- Find tags beneath other tags: `soup.select('tag1 tag2 tag3...')` \n",
        "- Find tags directly beneath other tags: `soup.select('tag1 > tag2')`\n",
        "- Find the siblings of tags:`soup.select('tag1 ~ tag2')` or `soup.select('tag1 + tag2')`\n",
        "- `.select_one()`: find only the first tag that matches a selector."
      ],
      "metadata": {
        "id": "QuxGfJAWvUHV"
      }
    },
    {
      "cell_type": "code",
      "source": [
        " html='''\n",
        "<div class=\"panel\">\n",
        "    <div class=\"panel-heading\">\n",
        "        <h4>Hello</h4>\n",
        "    </div>\n",
        "    <div class=\"panel-body\">\n",
        "        <ul class=\"list\" id=\"list-1\">\n",
        "            <li class=\"element\">Foo</li>\n",
        "            <li class=\"element\">Bar</li>\n",
        "            <li class=\"element\">Jay</li>\n",
        "        </ul>\n",
        "        <ul class=\"list list-small\" id=\"list-2\">\n",
        "            <li class=\"element\">Foo</li>\n",
        "            <li class=\"element\">Bar</li>\n",
        "        </ul>\n",
        "    </div>\n",
        "</div>\n",
        "'''\n",
        "soup = BeautifulSoup(html, 'lxml')\n",
        "#Find tags beneath other tags\n",
        "print(soup.select('.panel .panel-heading'))\n",
        "print(soup.select('ul li'))\n",
        "print(soup.select('#list-2 .element'))\n",
        "print(type(soup.select('ul')[0]))"
      ],
      "metadata": {
        "colab": {
          "base_uri": "https://localhost:8080/"
        },
        "id": "zYqO_5fhLKaM",
        "outputId": "1e0e309f-858e-400d-9f18-c7174b4b9b43"
      },
      "execution_count": 26,
      "outputs": [
        {
          "output_type": "stream",
          "name": "stdout",
          "text": [
            "[<div class=\"panel-heading\">\n",
            "<h4>Hello</h4>\n",
            "</div>]\n",
            "[<li class=\"element\">Foo</li>, <li class=\"element\">Bar</li>, <li class=\"element\">Jay</li>, <li class=\"element\">Foo</li>, <li class=\"element\">Bar</li>]\n",
            "[<li class=\"element\">Foo</li>, <li class=\"element\">Bar</li>]\n",
            "<class 'bs4.element.Tag'>\n"
          ]
        }
      ]
    },
    {
      "cell_type": "markdown",
      "source": [
        "### Nested Selection\n",
        "- first select one element, then find all elements under the pervious selected element in a list"
      ],
      "metadata": {
        "id": "bAPA9oHONbql"
      }
    },
    {
      "cell_type": "code",
      "source": [
        "for ul in soup.select('ul'):\n",
        "    print(ul.select('li'))"
      ],
      "metadata": {
        "colab": {
          "base_uri": "https://localhost:8080/"
        },
        "id": "vllh3orpM6-1",
        "outputId": "bb5c6759-8bfa-4423-97fc-60e046bf0a9b"
      },
      "execution_count": 27,
      "outputs": [
        {
          "output_type": "stream",
          "name": "stdout",
          "text": [
            "[<li class=\"element\">Foo</li>, <li class=\"element\">Bar</li>, <li class=\"element\">Jay</li>]\n",
            "[<li class=\"element\">Foo</li>, <li class=\"element\">Bar</li>]\n"
          ]
        }
      ]
    },
    {
      "cell_type": "markdown",
      "source": [
        "### Get Attributes\n"
      ],
      "metadata": {
        "id": "b6P9dnLWNxag"
      }
    },
    {
      "cell_type": "code",
      "source": [
        "for ul in soup.select('ul'):\n",
        "    print(ul['id'])\n",
        "    print(ul.attrs['id'])"
      ],
      "metadata": {
        "colab": {
          "base_uri": "https://localhost:8080/"
        },
        "id": "gZEad9SVN0wf",
        "outputId": "1a023af4-fa07-48db-a376-bf3769a4b922"
      },
      "execution_count": 28,
      "outputs": [
        {
          "output_type": "stream",
          "name": "stdout",
          "text": [
            "list-1\n",
            "list-1\n",
            "list-2\n",
            "list-2\n"
          ]
        }
      ]
    },
    {
      "cell_type": "markdown",
      "source": [
        "### Abstract Content\n",
        "- use `get_text()`"
      ],
      "metadata": {
        "id": "Y0aP0jj2N5-9"
      }
    },
    {
      "cell_type": "code",
      "source": [
        "for li in soup.select('li'):\n",
        "  #the two methods get the same results\n",
        "    print('Get Text:', li.get_text())\n",
        "    print('String:', li.string)"
      ],
      "metadata": {
        "colab": {
          "base_uri": "https://localhost:8080/"
        },
        "id": "COZDwoVvOCws",
        "outputId": "c247f45b-c883-415d-c163-417ba55398b7"
      },
      "execution_count": 29,
      "outputs": [
        {
          "output_type": "stream",
          "name": "stdout",
          "text": [
            "Get Text: Foo\n",
            "String: Foo\n",
            "Get Text: Bar\n",
            "String: Bar\n",
            "Get Text: Jay\n",
            "String: Jay\n",
            "Get Text: Foo\n",
            "String: Foo\n",
            "Get Text: Bar\n",
            "String: Bar\n"
          ]
        }
      ]
    },
    {
      "cell_type": "markdown",
      "source": [
        "## Other topics: \n",
        "- Modifying\n",
        "  - append()\n",
        "  - extend()\n",
        "  - .new_tag()\n",
        "  - NavigableString()\n",
        "  - insert()\n",
        "  - insert_before()\n",
        "  - insert_after()\n",
        "  - clear()\n",
        "  - extract()\n",
        "  - decompose()\n",
        "  - replace_with()\n",
        "  - wrap()\n",
        "  - unwrap()\n",
        "  - smooth()\n",
        "- Parser Customization \n",
        "  - Handling duplicate attributes\n",
        "  - Customizing multi-valued attributes\n",
        "  - SoupStrainer\n",
        "- Comparing objects for equality: use `==`\n",
        "- Line numbers:`Tag.sourceline` and `Tag.sourcepos`, `store_line_numbers=False` to turn off the function\n",
        "\n",
        "More Refer to:https://www.crummy.com/software/BeautifulSoup/bs4/doc/#output"
      ],
      "metadata": {
        "id": "4sBnmFoLOk67"
      }
    }
  ]
}