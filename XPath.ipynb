{
  "nbformat": 4,
  "nbformat_minor": 0,
  "metadata": {
    "colab": {
      "provenance": []
    },
    "kernelspec": {
      "name": "python3",
      "display_name": "Python 3"
    },
    "language_info": {
      "name": "python"
    }
  },
  "cells": [
    {
      "cell_type": "markdown",
      "source": [
        "## Material:\n",
        "- XML Path Language (XPath) 3.1 https://www.w3.org/TR/2017/REC-xpath-31-20170321/\n",
        "- python package `lxml`: https://lxml.de/\n",
        "- Python XML Tutorial with ElementTree: Beginner's Guide. DataCamp. https://www.datacamp.com/tutorial/python-xml-elementtree\n",
        "- XPath Tutorial: https://www.w3school.com.cn/xpath/index.asp\n"
      ],
      "metadata": {
        "id": "qeu-Q4po3kUf"
      }
    },
    {
      "cell_type": "markdown",
      "source": [
        "## Introduction\n",
        "XML Path Language, searching and abstracting information with XML and HTML.\n",
        "## XPath\n",
        "Positioning elements, based on HTML DOM structure.\n",
        "### Useful Expressions\n",
        "| Expression | Meaning |\n",
        "|--|--|\n",
        "| `node.name` | Pick all child nodes of this parent node|   \n",
        "| `/` | Picks a direct child node from the current node |\n",
        "| `//` |Select a descendant node from the current node  |\n",
        "| `.` | Pick the current node |\n",
        "| `..` | Pick the parent node of the current node |\n",
        "| `@`| Select an attribute |\n",
        "\n",
        "For example, ```XPath=//tagname[@attribute='value']```"
      ],
      "metadata": {
        "id": "_kaVp8dW25RL"
      }
    },
    {
      "cell_type": "code",
      "source": [
        "pip install lxml"
      ],
      "metadata": {
        "colab": {
          "base_uri": "https://localhost:8080/"
        },
        "id": "lqwA0SB-7npG",
        "outputId": "9c753178-2008-49da-cc19-7b368ccb3882"
      },
      "execution_count": 2,
      "outputs": [
        {
          "output_type": "stream",
          "name": "stdout",
          "text": [
            "Looking in indexes: https://pypi.org/simple, https://us-python.pkg.dev/colab-wheels/public/simple/\n",
            "Requirement already satisfied: lxml in /usr/local/lib/python3.7/dist-packages (4.9.1)\n"
          ]
        }
      ]
    },
    {
      "cell_type": "code",
      "source": [
        "from lxml import etree"
      ],
      "metadata": {
        "id": "Fz251XTp78s_"
      },
      "execution_count": 3,
      "outputs": []
    },
    {
      "cell_type": "code",
      "source": [
        "text = '''\n",
        "<div>\n",
        "    <ul>\n",
        "         <li class=\"item-0\"><a href=\"link1.html\">first item</a></li>\n",
        "         <li class=\"item-1\"><a href=\"link2.html\">second item</a></li>\n",
        "         <li class=\"item-inactive\"><a href=\"link3.html\">third item</a></li>\n",
        "         <li class=\"item-1\"><a href=\"link4.html\">fourth item</a></li>\n",
        "         <li class=\"item-0\"><a href=\"link5.html\">fifth item</a>\n",
        "     </ul>\n",
        " </div>\n",
        "'''\n",
        "#fix the html text with etree.HTML(),in this case, we add </li> to the last <li> and add <html></html>,<body></body> nodes for getting a complete structure.\n",
        "html = etree.HTML(text)\n",
        "#output the html after fixed use .tostring() function, we get bytes type\n",
        "result = etree.tostring(html)\n",
        "#use .decode() to get string type output\n",
        "print(result.decode('utf-8'))"
      ],
      "metadata": {
        "colab": {
          "base_uri": "https://localhost:8080/"
        },
        "id": "HK8n6MDbFz53",
        "outputId": "0faa1798-3d3b-417f-e770-63a446c8f016"
      },
      "execution_count": 4,
      "outputs": [
        {
          "output_type": "stream",
          "name": "stdout",
          "text": [
            "<html><body><div>\n",
            "    <ul>\n",
            "         <li class=\"item-0\"><a href=\"link1.html\">first item</a></li>\n",
            "         <li class=\"item-1\"><a href=\"link2.html\">second item</a></li>\n",
            "         <li class=\"item-inactive\"><a href=\"link3.html\">third item</a></li>\n",
            "         <li class=\"item-1\"><a href=\"link4.html\">fourth item</a></li>\n",
            "         <li class=\"item-0\"><a href=\"link5.html\">fifth item</a>\n",
            "     </li></ul>\n",
            " </div>\n",
            "</body></html>\n"
          ]
        }
      ]
    },
    {
      "cell_type": "markdown",
      "source": [
        "### Directly read HTML file use `.parse()`\n",
        "`\n",
        "HTMLParser(self, encoding=None, remove_blank_text=False, remove_comments=False, remove_pis=False, strip_cdata=True, no_network=True, target=None, schema: XMLSchema =None, recover=True, compact=True, collect_ids=True, huge_tree=False)\n",
        "`\n",
        "   - By default, HTMLParser can read broken HTML files, to trun off this, set `recover=False`.\n",
        "   - `no_network`: prevent network access for related files (default: True)\n",
        "   - `remove_blank_text`: discard empty text nodes that are ignorable\n",
        "   - `default_doctype`: add a default doctype even if it is not found in the HTML (default: True)\n",
        "\n",
        "For more information, references:https://lxml.de/api/lxml.etree.HTMLParser-class.html\n",
        "\n"
      ],
      "metadata": {
        "id": "DKzCJlwMJygk"
      }
    },
    {
      "cell_type": "code",
      "source": [
        "html = etree.parse('/content/index.html', etree.HTMLParser())\n",
        "result = etree.tostring(html)\n",
        "print(result.decode('utf-8'))"
      ],
      "metadata": {
        "colab": {
          "base_uri": "https://localhost:8080/"
        },
        "id": "eXFJb_SuG73d",
        "outputId": "b12a0444-4cd1-4c4b-be27-3b58f0fd812c"
      },
      "execution_count": 5,
      "outputs": [
        {
          "output_type": "stream",
          "name": "stdout",
          "text": [
            "<!DOCTYPE html>\n",
            "<html lang=\"en\">\n",
            "  <head>\n",
            "    <meta charset=\"UTF-8\"/>\n",
            "    <meta http-equiv=\"X-UA-Compatible\" content=\"IE=edge\"/>\n",
            "    <meta name=\"description\" content=\"Omnifood is an AI-powered food subscription that will make you eat healthy again, 365 days per year.It's tailored to your personal tastes and nutritional needs.\"/>\n",
            "\n",
            "    <!-- Always include this line of code!!! -->\n",
            "    <meta name=\"viewport\" content=\"width=device-width, initial-scale=1.0\"/>\n",
            "    \n",
            "    <link rel=\"icon\" href=\"img/favicon.png\"/>\n",
            "    <link rel=\"apple-touch-icon\" href=\"img/apple-touch-icon.png\"/>\n",
            "    <link rel=\"manifest\" href=\"manifest.webmanifest\"/>\n",
            "    <link rel=\"preconnect\" href=\"https://fonts.gstatic.com\"/>\n",
            "    <link href=\"https://fonts.googleapis.com/css2?family=Rubik:wght@400;500;600;700&amp;display=swap\" rel=\"stylesheet\"/>\n",
            "\n",
            "    <link rel=\"stylesheet\" href=\"css/general.css\"/>\n",
            "    <link rel=\"stylesheet\" href=\"css/style.css\"/>\n",
            "    <link rel=\"stylesheet\" href=\"css/queries.css\"/>\n",
            "\n",
            "    <script type=\"module\" src=\"https://unpkg.com/ionicons@5.4.0/dist/ionicons/ionicons.esm.js\"/>\n",
            "    <script nomodule=\"\" src=\"https://unpkg.com/ionicons@5.4.0/dist/ionicons/ionicons.js\"/>\n",
            "    <script defer=\"defer\" src=\"js/script.js\"/>\n",
            "\n",
            "    <script defer=\"defer\" src=\"https://unpkg.com/smoothscroll-polyfill@0.4.4/dist/smoothscroll.min.js\"/>\n",
            "\n",
            "    <title>Omnifood &#8212; Never Cook Again!</title>\n",
            "  </head>\n",
            "  <body>\n",
            "    <header class=\"header\">\n",
            "      <a href=\"#\">\n",
            "        <img class=\"logo\" alt=\"Omnifood logo\" src=\"img/omnifood-logo.png\"/>\n",
            "      </a>\n",
            "\n",
            "      <nav class=\"main-nav\">\n",
            "        <ul class=\"main-nav-list\">\n",
            "          <li><a class=\"main-nav-link\" href=\"#how\">How it works</a></li>\n",
            "          <li><a class=\"main-nav-link\" href=\"#meals\">Meals</a></li>\n",
            "          <li><a class=\"main-nav-link\" href=\"#testimonials\">Testimonials</a></li>\n",
            "          <li><a class=\"main-nav-link\" href=\"#pricing\">Pricing</a></li>\n",
            "          <li><a class=\"main-nav-link nav-cta\" href=\"#cta\">Try for free</a></li>\n",
            "        </ul>\n",
            "      </nav>\n",
            "\n",
            "      <button class=\"btn-mobile-nav\">\n",
            "        <ion-icon class=\"icon-mobile-nav\" name=\"menu-outline\"/>\n",
            "        <ion-icon class=\"icon-mobile-nav\" name=\"close-outline\"/>\n",
            "      </button>\n",
            "    </header>\n",
            "\n",
            "    <main>\n",
            "      <section class=\"section-hero\">\n",
            "        <div class=\"hero\">\n",
            "          <div class=\"hero-text-box\">\n",
            "            <h1 class=\"heading-primary\">\n",
            "              A healthy meal delivered to your door, every single day\n",
            "            </h1>\n",
            "            <p class=\"hero-description\">\n",
            "              The smart 365-days-per-year food subscription that will make you\n",
            "              eat healthy again. Tailored to your personal tastes and\n",
            "              nutritional needs.\n",
            "            </p>\n",
            "            <a href=\"#cta\" class=\"btn btn--full margin-right-sm\">Start eating well</a>\n",
            "            <a href=\"#how\" class=\"btn btn--outline\">Learn more &#8595;</a>\n",
            "            <div class=\"delivered-meals\">\n",
            "              <div class=\"delivered-imgs\">\n",
            "                <img src=\"img/customers/customer-1.jpg\" alt=\"Customer photo\"/>\n",
            "                <img src=\"img/customers/customer-2.jpg\" alt=\"Customer photo\"/>\n",
            "                <img src=\"img/customers/customer-3.jpg\" alt=\"Customer photo\"/>\n",
            "                <img src=\"img/customers/customer-4.jpg\" alt=\"Customer photo\"/>\n",
            "                <img src=\"img/customers/customer-5.jpg\" alt=\"Customer photo\"/>\n",
            "                <img src=\"img/customers/customer-6.jpg\" alt=\"Customer photo\"/>\n",
            "              </div>\n",
            "              <p class=\"delivered-text\">\n",
            "                <span>250,000+</span> meals delivered last year!\n",
            "              </p>\n",
            "            </div>\n",
            "          </div>\n",
            "          <div class=\"hero-img-box\">\n",
            "            <picture>\n",
            "              <source srcset=\"img/hero.webp\" type=\"image/webp\"/>\n",
            "              <source srcset=\"img/hero-min.png\" type=\"image/png\"/>\n",
            "              <img src=\"img/hero-min.png\" class=\"hero-img\" alt=\"Woman enjoying food, meals in storage container, and food bowls on a table\"/>\n",
            "            </picture>\n",
            "            <!--use 'squoosh' for optimizing graphs,reduce the img size-->\n",
            "            <!-- <img\n",
            "              src=\"/Users/macbookpro/Desktop/09-Omnifood-Optimizations/img/hero min.png\"\n",
            "              class=\"hero-img\"\n",
            "              alt=\"Woman enjoying food, meals in storage container, and food bowls on a table\"\n",
            "            /> -->\n",
            "          </div>\n",
            "        </div>\n",
            "      </section>\n",
            "\n",
            "      <section class=\"section-featured\">\n",
            "        <div class=\"container\">\n",
            "          <h2 class=\"heading-featured-in\">As featured in</h2>\n",
            "          <div class=\"logos\">\n",
            "            <img src=\"img/logos/techcrunch.png\" alt=\"Techcrunch logo\"/>\n",
            "            <img src=\"img/logos/business-insider.png\" alt=\"Business Insider logo\"/>\n",
            "            <img src=\"img/logos/the-new-york-times.png\" alt=\"The New York Times logo\"/>\n",
            "            <img src=\"img/logos/forbes.png\" alt=\"Forbes logo\"/>\n",
            "            <img src=\"img/logos/usa-today.png\" alt=\"USA Today logo\"/>\n",
            "          </div>\n",
            "        </div>\n",
            "      </section>\n",
            "\n",
            "      <section class=\"section-how\" id=\"how\">\n",
            "        <div class=\"container\">\n",
            "          <span class=\"subheading\">How it works</span>\n",
            "          <h2 class=\"heading-secondary\">\n",
            "            Your daily dose of health in 3 simple steps\n",
            "          </h2>\n",
            "        </div>\n",
            "\n",
            "        <div class=\"container grid grid--2-cols grid--center-v\">\n",
            "          <!-- STEP 01 -->\n",
            "          <div class=\"step-text-box\">\n",
            "            <p class=\"step-number\">01</p>\n",
            "            <h3 class=\"heading-tertiary\">\n",
            "              Tell us what you like (and what not)\n",
            "            </h3>\n",
            "            <p class=\"step-description\">\n",
            "              Never again waste time thinking about what to eat! Omnifood AI\n",
            "              will create a 100% personalized weekly meal plan just for you. It\n",
            "              makes sure you get all the nutrients and vitamins you need, no\n",
            "              matter what diet you follow!\n",
            "            </p>\n",
            "          </div>\n",
            "\n",
            "          <div class=\"step-img-box\">\n",
            "            <img src=\"img/app/app-screen-1.png\" class=\"step-img\" alt=\"iPhone app&#10;            preferences selection screen\"/>\n",
            "          </div>\n",
            "\n",
            "          <!-- STEP 02 -->\n",
            "          <div class=\"step-img-box\">\n",
            "            <img src=\"img/app/app-screen-2.png\" class=\"step-img\" alt=\"iPhone app&#10;            meal approving plan screen\"/>\n",
            "          </div>\n",
            "          <div class=\"step-text-box\">\n",
            "            <p class=\"step-number\">02</p>\n",
            "            <h3 class=\"heading-tertiary\">Approve your weekly meal plan</h3>\n",
            "            <p class=\"step-description\">\n",
            "              Once per week, approve the meal plan generated for you by Omnifood\n",
            "              AI. You can change ingredients, swap entire meals, or even add\n",
            "              your own recipes.\n",
            "            </p>\n",
            "          </div>\n",
            "\n",
            "          <!-- STEP 03 -->\n",
            "          <div class=\"step-text-box\">\n",
            "            <p class=\"step-number\">03</p>\n",
            "            <h3 class=\"heading-tertiary\">Receive meals at convenient time</h3>\n",
            "            <p class=\"step-description\">\n",
            "              Best chefs in town will cook your selected meal every day, and we\n",
            "              will deliver it to your door whenever works best for you. You can\n",
            "              change delivery schedule and address daily!\n",
            "            </p>\n",
            "          </div>\n",
            "          <div class=\"step-img-box\">\n",
            "            <img src=\"img/app/app-screen-3.png\" class=\"step-img\" alt=\"iPhone app&#10;            delivery screen\"/>\n",
            "          </div>\n",
            "        </div>\n",
            "      </section>\n",
            "\n",
            "      <section class=\"section-meals\" id=\"meals\">\n",
            "        <div class=\"container center-text\">\n",
            "          <span class=\"subheading\">Meals</span>\n",
            "          <h2 class=\"heading-secondary\">\n",
            "            Omnifood AI chooses from 5,000+ recipes\n",
            "          </h2>\n",
            "        </div>\n",
            "\n",
            "        <div class=\"container grid grid--3-cols margin-bottom-md\">\n",
            "          <div class=\"meal\">\n",
            "            <img src=\"img/meals/meal-1.jpg\" class=\"meal-img\" alt=\"Japanese Gyozas\"/>\n",
            "            <div class=\"meal-content\">\n",
            "              <div class=\"meal-tags\">\n",
            "                <span class=\"tag tag--vegetarian\">Vegetarian</span>\n",
            "              </div>\n",
            "              <p class=\"meal-title\">Japanese Gyozas</p>\n",
            "              <ul class=\"meal-attributes\">\n",
            "                <li class=\"meal-attribute\">\n",
            "                  <ion-icon class=\"meal-icon\" name=\"flame-outline\"/>\n",
            "                  <span><strong>650</strong> calories</span>\n",
            "                </li>\n",
            "                <li class=\"meal-attribute\">\n",
            "                  <ion-icon class=\"meal-icon\" name=\"restaurant-outline\"/>\n",
            "                  <span>NutriScore &#174; <strong>74</strong></span>\n",
            "                </li>\n",
            "                <li class=\"meal-attribute\">\n",
            "                  <ion-icon class=\"meal-icon\" name=\"star-outline\"/>\n",
            "                  <span><strong>4.9</strong> rating (537)</span>\n",
            "                </li>\n",
            "              </ul>\n",
            "            </div>\n",
            "          </div>\n",
            "\n",
            "          <div class=\"meal\">\n",
            "            <img src=\"img/meals/meal-2.jpg\" class=\"meal-img\" alt=\"Avocado Salad\"/>\n",
            "            <div class=\"meal-content\">\n",
            "              <div class=\"meal-tags\">\n",
            "                <span class=\"tag tag--vegan\">Vegan</span>\n",
            "                <span class=\"tag tag--paleo\">Paleo</span>\n",
            "              </div>\n",
            "              <p class=\"meal-title\">Avocado Salad</p>\n",
            "              <ul class=\"meal-attributes\">\n",
            "                <li class=\"meal-attribute\">\n",
            "                  <ion-icon class=\"meal-icon\" name=\"flame-outline\"/>\n",
            "                  <span><strong>400</strong> calories</span>\n",
            "                </li>\n",
            "                <li class=\"meal-attribute\">\n",
            "                  <ion-icon class=\"meal-icon\" name=\"restaurant-outline\"/>\n",
            "                  <span>NutriScore &#174; <strong>92</strong></span>\n",
            "                </li>\n",
            "                <li class=\"meal-attribute\">\n",
            "                  <ion-icon class=\"meal-icon\" name=\"star-outline\"/>\n",
            "                  <span><strong>4.8</strong> rating (441)</span>\n",
            "                </li>\n",
            "              </ul>\n",
            "            </div>\n",
            "          </div>\n",
            "\n",
            "          <div class=\"diets\">\n",
            "            <h3 class=\"heading-tertiary\">Works with any diet:</h3>\n",
            "            <ul class=\"list\">\n",
            "              <li class=\"list-item\">\n",
            "                <ion-icon class=\"list-icon\" name=\"checkmark-outline\"/>\n",
            "                <span>Vegetarian</span>\n",
            "              </li>\n",
            "              <li class=\"list-item\">\n",
            "                <ion-icon class=\"list-icon\" name=\"checkmark-outline\"/>\n",
            "                <span>Vegan</span>\n",
            "              </li>\n",
            "              <li class=\"list-item\">\n",
            "                <ion-icon class=\"list-icon\" name=\"checkmark-outline\"/>\n",
            "                <span>Pescatarian</span>\n",
            "              </li>\n",
            "              <li class=\"list-item\">\n",
            "                <ion-icon class=\"list-icon\" name=\"checkmark-outline\"/>\n",
            "                <span>Gluten-free</span>\n",
            "              </li>\n",
            "              <li class=\"list-item\">\n",
            "                <ion-icon class=\"list-icon\" name=\"checkmark-outline\"/>\n",
            "                <span>Lactose-free</span>\n",
            "              </li>\n",
            "              <li class=\"list-item\">\n",
            "                <ion-icon class=\"list-icon\" name=\"checkmark-outline\"/>\n",
            "                <span>Keto</span>\n",
            "              </li>\n",
            "              <li class=\"list-item\">\n",
            "                <ion-icon class=\"list-icon\" name=\"checkmark-outline\"/>\n",
            "                <span>Paleo</span>\n",
            "              </li>\n",
            "              <li class=\"list-item\">\n",
            "                <ion-icon class=\"list-icon\" name=\"checkmark-outline\"/>\n",
            "                <span>Low FODMAP</span>\n",
            "              </li>\n",
            "              <li class=\"list-item\">\n",
            "                <ion-icon class=\"list-icon\" name=\"checkmark-outline\"/>\n",
            "                <span>Kid-friendly</span>\n",
            "              </li>\n",
            "            </ul>\n",
            "          </div>\n",
            "        </div>\n",
            "\n",
            "        <div class=\"container all-recipes\">\n",
            "          <a href=\"#\" class=\"link\">See all recipes &#8594;</a>\n",
            "        </div>\n",
            "      </section>\n",
            "\n",
            "      <section class=\"section-testimonials\" id=\"testimonials\">\n",
            "        <div class=\"testimonials-container\">\n",
            "          <span class=\"subheading\">Testimonials</span>\n",
            "          <h2 class=\"heading-secondary\">Once you try it, you can't go back</h2>\n",
            "\n",
            "          <div class=\"testimonials\">\n",
            "            <figure class=\"testimonial\">\n",
            "              <img class=\"testimonial-img\" alt=\"Photo of customer Dave Bryson\" src=\"img/customers/dave.jpg\"/>\n",
            "              <blockquote class=\"testimonial-text\">\n",
            "                Inexpensive, healthy and great-tasting meals, without even\n",
            "                having to order manually! It feels truly magical.\n",
            "              </blockquote>\n",
            "              <p class=\"testimonial-name\">&#8212; Dave Bryson</p>\n",
            "            </figure>\n",
            "\n",
            "            <figure class=\"testimonial\">\n",
            "              <img class=\"testimonial-img\" alt=\"Photo of customer Ben Hadley\" src=\"img/customers/ben.jpg\"/>\n",
            "              <blockquote class=\"testimonial-text\">\n",
            "                The AI algorithm is crazy good, it chooses the right meals for\n",
            "                me every time. It's amazing not to worry about food anymore!\n",
            "              </blockquote>\n",
            "              <p class=\"testimonial-name\">&#8212; Ben Hadley</p>\n",
            "            </figure>\n",
            "\n",
            "            <figure class=\"testimonial\">\n",
            "              <img class=\"testimonial-img\" alt=\"Photo of customer Steve Miller\" src=\"img/customers/steve.jpg\"/>\n",
            "              <blockquote class=\"testimonial-text\">\n",
            "                Omnifood is a life saver! I just started a company, so there's\n",
            "                no time for cooking. I couldn't live without my daily meals now!\n",
            "              </blockquote>\n",
            "              <p class=\"testimonial-name\">&#8212; Steve Miller</p>\n",
            "            </figure>\n",
            "\n",
            "            <figure class=\"testimonial\">\n",
            "              <img class=\"testimonial-img\" alt=\"Photo of customer Hannah Smith\" src=\"img/customers/hannah.jpg\"/>\n",
            "              <blockquote class=\"testimonial-text\">\n",
            "                I got Omnifood for the whole family, and it frees up so much\n",
            "                time! Plus, everything is organic and vegan and without plastic.\n",
            "              </blockquote>\n",
            "              <p class=\"testimonial-name\">&#8212; Hannah Smith</p>\n",
            "            </figure>\n",
            "          </div>\n",
            "        </div>\n",
            "\n",
            "        <div class=\"gallery\">\n",
            "          <figure class=\"gallery-item\">\n",
            "            <img src=\"img/gallery/gallery-1.jpg\" alt=\"Photo of beautifully&#10;            arranged food\"/>\n",
            "            <!-- <figcaption>Caption</figcaption> -->\n",
            "          </figure>\n",
            "          <figure class=\"gallery-item\">\n",
            "            <img src=\"img/gallery/gallery-2.jpg\" alt=\"Photo of beautifully&#10;            arranged food\"/>\n",
            "          </figure>\n",
            "          <figure class=\"gallery-item\">\n",
            "            <img src=\"img/gallery/gallery-3.jpg\" alt=\"Photo of beautifully&#10;            arranged food\"/>\n",
            "          </figure>\n",
            "          <figure class=\"gallery-item\">\n",
            "            <img src=\"img/gallery/gallery-4.jpg\" alt=\"Photo of beautifully&#10;            arranged food\"/>\n",
            "          </figure>\n",
            "          <figure class=\"gallery-item\">\n",
            "            <img src=\"img/gallery/gallery-5.jpg\" alt=\"Photo of beautifully&#10;            arranged food\"/>\n",
            "          </figure>\n",
            "          <figure class=\"gallery-item\">\n",
            "            <img src=\"img/gallery/gallery-6.jpg\" alt=\"Photo of beautifully&#10;            arranged food\"/>\n",
            "          </figure>\n",
            "          <figure class=\"gallery-item\">\n",
            "            <img src=\"img/gallery/gallery-7.jpg\" alt=\"Photo of beautifully&#10;            arranged food\"/>\n",
            "          </figure>\n",
            "          <figure class=\"gallery-item\">\n",
            "            <img src=\"img/gallery/gallery-8.jpg\" alt=\"Photo of beautifully&#10;            arranged food\"/>\n",
            "          </figure>\n",
            "          <figure class=\"gallery-item\">\n",
            "            <img src=\"img/gallery/gallery-9.jpg\" alt=\"Photo of beautifully&#10;            arranged food\"/>\n",
            "          </figure>\n",
            "          <figure class=\"gallery-item\">\n",
            "            <img src=\"img/gallery/gallery-10.jpg\" alt=\"Photo of beautifully&#10;            arranged food\"/>\n",
            "          </figure>\n",
            "          <figure class=\"gallery-item\">\n",
            "            <img src=\"img/gallery/gallery-11.jpg\" alt=\"Photo of beautifully&#10;            arranged food\"/>\n",
            "          </figure>\n",
            "          <figure class=\"gallery-item\">\n",
            "            <img src=\"img/gallery/gallery-12.jpg\" alt=\"Photo of beautifully&#10;            arranged food\"/>\n",
            "          </figure>\n",
            "        </div>\n",
            "      </section>\n",
            "\n",
            "      <section class=\"section-pricing\" id=\"pricing\">\n",
            "        <div class=\"container\">\n",
            "          <span class=\"subheading\">Pricing</span>\n",
            "          <h2 class=\"heading-secondary\">\n",
            "            Eating well without breaking the bank\n",
            "          </h2>\n",
            "        </div>\n",
            "\n",
            "        <div class=\"container grid grid--2-cols margin-bottom-md\">\n",
            "          <div class=\"pricing-plan pricing-plan--starter\">\n",
            "            <header class=\"plan-header\">\n",
            "              <p class=\"plan-name\">Starter</p>\n",
            "              <p class=\"plan-price\"><span>$</span>399</p>\n",
            "              <p class=\"plan-text\">per month. That's just $13 per meal!</p>\n",
            "            </header>\n",
            "            <ul class=\"list\">\n",
            "              <li class=\"list-item\">\n",
            "                <ion-icon class=\"list-icon\" name=\"checkmark-outline\"/>\n",
            "                <span>1 meal per day</span>\n",
            "              </li>\n",
            "              <li class=\"list-item\">\n",
            "                <ion-icon class=\"list-icon\" name=\"checkmark-outline\"/>\n",
            "                <span>Order from 11am to 9pm</span>\n",
            "              </li>\n",
            "              <li class=\"list-item\">\n",
            "                <ion-icon class=\"list-icon\" name=\"checkmark-outline\"/>\n",
            "                <span>Delivery is free</span>\n",
            "              </li>\n",
            "              <li class=\"list-item\">\n",
            "                <ion-icon class=\"list-icon\" name=\"close-outline\"/>\n",
            "              </li>\n",
            "            </ul>\n",
            "            <div class=\"plan-sing-up\">\n",
            "              <a href=\"#\" class=\"btn btn--full\">Start eating well</a>\n",
            "            </div>\n",
            "          </div>\n",
            "\n",
            "          <div class=\"pricing-plan pricing-plan--complete\">\n",
            "            <header class=\"plan-header\">\n",
            "              <p class=\"plan-name\">Complete</p>\n",
            "              <p class=\"plan-price\"><span>$</span>649</p>\n",
            "              <p class=\"plan-text\">per month. That's just $11 per meal!</p>\n",
            "            </header>\n",
            "            <ul class=\"list\">\n",
            "              <li class=\"list-item\">\n",
            "                <ion-icon class=\"list-icon\" name=\"checkmark-outline\"/>\n",
            "                <span><strong>2 meals</strong> per day</span>\n",
            "              </li>\n",
            "              <li class=\"list-item\">\n",
            "                <ion-icon class=\"list-icon\" name=\"checkmark-outline\"/>\n",
            "                <span>Order <strong>24/7</strong></span>\n",
            "              </li>\n",
            "              <li class=\"list-item\">\n",
            "                <ion-icon class=\"list-icon\" name=\"checkmark-outline\"/>\n",
            "                <span>Delivery is free</span>\n",
            "              </li>\n",
            "              <li class=\"list-item\">\n",
            "                <ion-icon class=\"list-icon\" name=\"checkmark-outline\"/>\n",
            "                <span>Get access to latest recipes</span>\n",
            "              </li>\n",
            "            </ul>\n",
            "            <div class=\"plan-sing-up\">\n",
            "              <a href=\"#\" class=\"btn btn--full\">Start eating well</a>\n",
            "            </div>\n",
            "          </div>\n",
            "        </div>\n",
            "\n",
            "        <div class=\"container grid\">\n",
            "          <aside class=\"plan-details\">\n",
            "            Prices include all applicable taxes. You can cancel at any time.\n",
            "            Both plans include the following:\n",
            "          </aside>\n",
            "        </div>\n",
            "\n",
            "        <div class=\"container grid grid--4-cols\">\n",
            "          <div class=\"feature\">\n",
            "            <ion-icon class=\"feature-icon\" name=\"infinite-outline\"/>\n",
            "            <p class=\"feature-title\">Never cook again!</p>\n",
            "            <p class=\"feature-text\">\n",
            "              Our subscriptions cover 365 days per year, even including major\n",
            "              holidays.\n",
            "            </p>\n",
            "          </div>\n",
            "          <div class=\"feature\">\n",
            "            <ion-icon class=\"feature-icon\" name=\"nutrition-outline\"/>\n",
            "            <p class=\"feature-title\">Local and organic</p>\n",
            "            <p class=\"feature-text\">\n",
            "              Our cooks only use local, fresh, and organic products to prepare\n",
            "              your meals.\n",
            "            </p>\n",
            "          </div>\n",
            "          <div class=\"feature\">\n",
            "            <ion-icon class=\"feature-icon\" name=\"leaf-outline\"/>\n",
            "            <p class=\"feature-title\">No waste</p>\n",
            "            <p class=\"feature-text\">\n",
            "              All our partners only use reusable containers to package all your\n",
            "              meals.\n",
            "            </p>\n",
            "          </div>\n",
            "          <div class=\"feature\">\n",
            "            <ion-icon class=\"feature-icon\" name=\"pause-outline\"/>\n",
            "            <p class=\"feature-title\">Pause anytime</p>\n",
            "            <p class=\"feature-text\">\n",
            "              Going on vacation? Just pause your subscription, and we refund\n",
            "              unused days.\n",
            "            </p>\n",
            "          </div>\n",
            "        </div>\n",
            "      </section>\n",
            "\n",
            "      <section class=\"section-cta\" id=\"cta\">\n",
            "        <div class=\"container\">\n",
            "          <div class=\"cta\">\n",
            "            <div class=\"cta-text-box\">\n",
            "              <h2 class=\"heading-secondary\">Get your first meal for free!</h2>\n",
            "              <p class=\"cta-text\">\n",
            "                Healthy, tasty and hassle-free meals are waiting for you. Start\n",
            "                eating well today. You can cancel or pause anytime. And the\n",
            "                first meal is on us!\n",
            "              </p>\n",
            "\n",
            "              <form class=\"cta-form\" action=\"#\">\n",
            "                <div>\n",
            "                  <label for=\"full-name\">Full Name</label>\n",
            "                  <input id=\"full-name\" type=\"text\" placeholder=\"Doris Wang\" required=\"\"/>\n",
            "                </div>\n",
            "\n",
            "                <div>\n",
            "                  <label for=\"email\">Email address</label>\n",
            "                  <input id=\"email\" type=\"email\" placeholder=\"me@example.com\" required=\"\"/>\n",
            "                </div>\n",
            "\n",
            "                <div>\n",
            "                  <label for=\"select-where\">Where did you hear from us?</label>\n",
            "                  <select id=\"select-where\" required=\"\">\n",
            "                    <option value=\"\">Please choose one option:</option>\n",
            "                    <option value=\"friends\">Friends and family</option>\n",
            "                    <option value=\"youtube\">YouTube video</option>\n",
            "                    <option value=\"podcast\">Podcast</option>\n",
            "                    <option value=\"ad\">Facebook ad</option>\n",
            "                    <option value=\"others\">Others</option>\n",
            "                  </select>\n",
            "                </div>\n",
            "\n",
            "                <button class=\"btn btn--form\">Sign up now</button>\n",
            "\n",
            "                <!-- <input type=\"checkbox\" />\n",
            "                <input type=\"number\" /> -->\n",
            "              </form>\n",
            "            </div>\n",
            "            <div class=\"cta-img-box\" role=\"img\" aria-label=\"Woman enjoying food\"/>\n",
            "          </div>\n",
            "        </div>\n",
            "      </section>\n",
            "    </main>\n",
            "\n",
            "    <footer class=\"footer\">\n",
            "      <div class=\"container grid grid--footer\">\n",
            "        <div class=\"logo-col\">\n",
            "          <a href=\"#\" class=\"footer-logo\">\n",
            "            <img class=\"logo\" alt=\"Omnifood logo\" src=\"img/omnifood-logo.png\"/>\n",
            "          </a>\n",
            "\n",
            "          <ul class=\"social-links\">\n",
            "            <li>\n",
            "              <a class=\"footer-link\" href=\"#\"><ion-icon class=\"social-icon\" name=\"logo-instagram\"/></a>\n",
            "            </li>\n",
            "            <li>\n",
            "              <a class=\"footer-link\" href=\"#\"><ion-icon class=\"social-icon\" name=\"logo-facebook\"/></a>\n",
            "            </li>\n",
            "            <li>\n",
            "              <a class=\"footer-link\" href=\"#\"><ion-icon class=\"social-icon\" name=\"logo-twitter\"/></a>\n",
            "            </li>\n",
            "          </ul>\n",
            "\n",
            "          <p class=\"copyright\">\n",
            "            Copyright &#169; <span class=\"year\">2027</span> by Omnifood, Inc. All rights reserved.\n",
            "          </p>\n",
            "        </div>\n",
            "\n",
            "        <div class=\"address-col\">\n",
            "          <p class=\"footer-heading\">Contact us</p>\n",
            "          <address class=\"contacts\">\n",
            "            <p class=\"address\">\n",
            "              623 Harrison St., 2nd Floor, San Francisco, CA 94107\n",
            "            </p>\n",
            "            <p>\n",
            "              <a class=\"footer-link\" href=\"tel:415-201-6370\">415-201-6370</a><br/>\n",
            "              <a class=\"footer-link\" href=\"mailto:hello@omnifood.com\">hello@omnifood.com</a>\n",
            "            </p>\n",
            "          </address>\n",
            "        </div>\n",
            "\n",
            "        <nav class=\"nav-col\">\n",
            "          <p class=\"footer-heading\">Account</p>\n",
            "          <ul class=\"footer-nav\">\n",
            "            <li><a class=\"footer-link\" href=\"#\">Create account</a></li>\n",
            "            <li><a class=\"footer-link\" href=\"#\">Sign in</a></li>\n",
            "            <li><a class=\"footer-link\" href=\"#\">iOS app</a></li>\n",
            "            <li><a class=\"footer-link\" href=\"#\">Android app</a></li>\n",
            "          </ul>\n",
            "        </nav>\n",
            "\n",
            "        <nav class=\"nav-col\">\n",
            "          <p class=\"footer-heading\">Company</p>\n",
            "          <ul class=\"footer-nav\">\n",
            "            <li><a class=\"footer-link\" href=\"#\">About Omnifood</a></li>\n",
            "            <li><a class=\"footer-link\" href=\"#\">For Business</a></li>\n",
            "            <li><a class=\"footer-link\" href=\"#\">Cooking partners</a></li>\n",
            "            <li><a class=\"footer-link\" href=\"#\">Careers</a></li>\n",
            "          </ul>\n",
            "        </nav>\n",
            "\n",
            "        <nav class=\"nav-col\">\n",
            "          <p class=\"footer-heading\">Resources</p>\n",
            "          <ul class=\"footer-nav\">\n",
            "            <li><a class=\"footer-link\" href=\"#\">Recipe directory </a></li>\n",
            "            <li><a class=\"footer-link\" href=\"#\">Help center</a></li>\n",
            "            <li><a class=\"footer-link\" href=\"#\">Privacy &amp; terms</a></li>\n",
            "          </ul>\n",
            "        </nav>\n",
            "      </div>\n",
            "    </footer>\n",
            "  </body>\n",
            "</html>\n"
          ]
        }
      ]
    },
    {
      "cell_type": "markdown",
      "source": [
        "## Get All Nodes\n",
        "Use `.xpath('//*')` choose all acceptable nodes.\n",
        "\n",
        "`*` represents all types of nodes, return results as lists, composition: `<Element NodeType at location>`."
      ],
      "metadata": {
        "id": "vzPrSsVWbxPf"
      }
    },
    {
      "cell_type": "code",
      "source": [
        "html = etree.parse('/content/index.html', etree.HTMLParser())\n",
        "result = html.xpath('//*')\n",
        "print(result)"
      ],
      "metadata": {
        "colab": {
          "base_uri": "https://localhost:8080/"
        },
        "id": "pySRq-jtQlur",
        "outputId": "9bb03629-519d-4f0f-ebff-55df0d0b5994"
      },
      "execution_count": 6,
      "outputs": [
        {
          "output_type": "stream",
          "name": "stdout",
          "text": [
            "[<Element html at 0x7efc88867500>, <Element head at 0x7efc88869640>, <Element meta at 0x7efc88867910>, <Element meta at 0x7efc888678c0>, <Element meta at 0x7efc88867550>, <Element meta at 0x7efc88865fa0>, <Element link at 0x7efc88865f50>, <Element link at 0x7efc88865f00>, <Element link at 0x7efc88865eb0>, <Element link at 0x7efc88865e60>, <Element link at 0x7efc88865e10>, <Element link at 0x7efc88865a00>, <Element link at 0x7efc8810ec30>, <Element link at 0x7efc8810eaf0>, <Element script at 0x7efc8810ee60>, <Element script at 0x7efc8810ee10>, <Element script at 0x7efc8810eeb0>, <Element script at 0x7efc8810ef00>, <Element title at 0x7efc8810ef50>, <Element body at 0x7efc8810efa0>, <Element header at 0x7efc88120910>, <Element a at 0x7efc88120050>, <Element img at 0x7efc881200a0>, <Element nav at 0x7efc881200f0>, <Element ul at 0x7efc88120140>, <Element li at 0x7efc88120190>, <Element a at 0x7efc881201e0>, <Element li at 0x7efc88120230>, <Element a at 0x7efc88120280>, <Element li at 0x7efc881202d0>, <Element a at 0x7efc88120320>, <Element li at 0x7efc88120370>, <Element a at 0x7efc881203c0>, <Element li at 0x7efc88120410>, <Element a at 0x7efc88120460>, <Element button at 0x7efc881204b0>, <Element ion-icon at 0x7efc88120500>, <Element ion-icon at 0x7efc88120550>, <Element main at 0x7efc881205a0>, <Element section at 0x7efc881205f0>, <Element div at 0x7efc88120640>, <Element div at 0x7efc88120690>, <Element h1 at 0x7efc881206e0>, <Element p at 0x7efc88120730>, <Element a at 0x7efc88120780>, <Element a at 0x7efc881207d0>, <Element div at 0x7efc88120820>, <Element div at 0x7efc88120870>, <Element img at 0x7efc881208c0>, <Element img at 0x7efc88113500>, <Element img at 0x7efc88113550>, <Element img at 0x7efc881135a0>, <Element img at 0x7efc881135f0>, <Element img at 0x7efc88113640>, <Element p at 0x7efc88113690>, <Element span at 0x7efc881136e0>, <Element div at 0x7efc88113730>, <Element picture at 0x7efc88113780>, <Element source at 0x7efc881137d0>, <Element source at 0x7efc88113820>, <Element img at 0x7efc88113870>, <Element section at 0x7efc881138c0>, <Element div at 0x7efc88113910>, <Element h2 at 0x7efc88113960>, <Element div at 0x7efc881139b0>, <Element img at 0x7efc88113a00>, <Element img at 0x7efc88113a50>, <Element img at 0x7efc88113aa0>, <Element img at 0x7efc88113af0>, <Element img at 0x7efc88113b40>, <Element section at 0x7efc88113b90>, <Element div at 0x7efc88113be0>, <Element span at 0x7efc88113c30>, <Element h2 at 0x7efc88113c80>, <Element div at 0x7efc88113cd0>, <Element div at 0x7efc88113d20>, <Element p at 0x7efc88113d70>, <Element h3 at 0x7efc88113dc0>, <Element p at 0x7efc88113e10>, <Element div at 0x7efc88113e60>, <Element img at 0x7efc88113eb0>, <Element div at 0x7efc88113f00>, <Element img at 0x7efc88113f50>, <Element div at 0x7efc88113fa0>, <Element p at 0x7efc87e96050>, <Element h3 at 0x7efc87e960a0>, <Element p at 0x7efc87e960f0>, <Element div at 0x7efc87e96140>, <Element p at 0x7efc87e96190>, <Element h3 at 0x7efc87e961e0>, <Element p at 0x7efc87e96230>, <Element div at 0x7efc87e96280>, <Element img at 0x7efc87e962d0>, <Element section at 0x7efc87e96320>, <Element div at 0x7efc87e96370>, <Element span at 0x7efc87e963c0>, <Element h2 at 0x7efc87e96410>, <Element div at 0x7efc87e96460>, <Element div at 0x7efc87e964b0>, <Element img at 0x7efc87e96500>, <Element div at 0x7efc87e96550>, <Element div at 0x7efc87e965a0>, <Element span at 0x7efc87e965f0>, <Element p at 0x7efc87e96640>, <Element ul at 0x7efc87e96690>, <Element li at 0x7efc87e966e0>, <Element ion-icon at 0x7efc87e96730>, <Element span at 0x7efc87e96780>, <Element strong at 0x7efc87e967d0>, <Element li at 0x7efc87e96820>, <Element ion-icon at 0x7efc87e96870>, <Element span at 0x7efc87e968c0>, <Element strong at 0x7efc87e96910>, <Element li at 0x7efc87e96960>, <Element ion-icon at 0x7efc87e969b0>, <Element span at 0x7efc87e96a00>, <Element strong at 0x7efc87e96a50>, <Element div at 0x7efc87e96aa0>, <Element img at 0x7efc87e96af0>, <Element div at 0x7efc87e96b40>, <Element div at 0x7efc87e96b90>, <Element span at 0x7efc87e96be0>, <Element span at 0x7efc87e96c30>, <Element p at 0x7efc87e96c80>, <Element ul at 0x7efc87e96cd0>, <Element li at 0x7efc87e96d20>, <Element ion-icon at 0x7efc87e96d70>, <Element span at 0x7efc87e96dc0>, <Element strong at 0x7efc87e96e10>, <Element li at 0x7efc87e96e60>, <Element ion-icon at 0x7efc87e96eb0>, <Element span at 0x7efc87e96f00>, <Element strong at 0x7efc87e96f50>, <Element li at 0x7efc87e96fa0>, <Element ion-icon at 0x7efc87e98050>, <Element span at 0x7efc87e980a0>, <Element strong at 0x7efc87e980f0>, <Element div at 0x7efc87e98140>, <Element h3 at 0x7efc87e98190>, <Element ul at 0x7efc87e981e0>, <Element li at 0x7efc87e98230>, <Element ion-icon at 0x7efc87e98280>, <Element span at 0x7efc87e982d0>, <Element li at 0x7efc87e98320>, <Element ion-icon at 0x7efc87e98370>, <Element span at 0x7efc87e983c0>, <Element li at 0x7efc87e98410>, <Element ion-icon at 0x7efc87e98460>, <Element span at 0x7efc87e984b0>, <Element li at 0x7efc87e98500>, <Element ion-icon at 0x7efc87e98550>, <Element span at 0x7efc87e985a0>, <Element li at 0x7efc87e985f0>, <Element ion-icon at 0x7efc87e98640>, <Element span at 0x7efc87e98690>, <Element li at 0x7efc87e986e0>, <Element ion-icon at 0x7efc87e98730>, <Element span at 0x7efc87e98780>, <Element li at 0x7efc87e987d0>, <Element ion-icon at 0x7efc87e98820>, <Element span at 0x7efc87e98870>, <Element li at 0x7efc87e988c0>, <Element ion-icon at 0x7efc87e98910>, <Element span at 0x7efc87e98960>, <Element li at 0x7efc87e989b0>, <Element ion-icon at 0x7efc87e98a00>, <Element span at 0x7efc87e98a50>, <Element div at 0x7efc87e98aa0>, <Element a at 0x7efc87e98af0>, <Element section at 0x7efc87e98b40>, <Element div at 0x7efc87e98b90>, <Element span at 0x7efc87e98be0>, <Element h2 at 0x7efc87e98c30>, <Element div at 0x7efc87e98c80>, <Element figure at 0x7efc87e98cd0>, <Element img at 0x7efc87e98d20>, <Element blockquote at 0x7efc87e98d70>, <Element p at 0x7efc87e98dc0>, <Element figure at 0x7efc87e98e10>, <Element img at 0x7efc87e98e60>, <Element blockquote at 0x7efc87e98eb0>, <Element p at 0x7efc87e98f00>, <Element figure at 0x7efc87e98f50>, <Element img at 0x7efc87e98fa0>, <Element blockquote at 0x7efc87e99050>, <Element p at 0x7efc87e990a0>, <Element figure at 0x7efc87e990f0>, <Element img at 0x7efc87e99140>, <Element blockquote at 0x7efc87e99190>, <Element p at 0x7efc87e991e0>, <Element div at 0x7efc87e99230>, <Element figure at 0x7efc87e99280>, <Element img at 0x7efc87e992d0>, <Element figure at 0x7efc87e99320>, <Element img at 0x7efc87e99370>, <Element figure at 0x7efc87e993c0>, <Element img at 0x7efc87e99410>, <Element figure at 0x7efc87e99460>, <Element img at 0x7efc87e994b0>, <Element figure at 0x7efc87e99500>, <Element img at 0x7efc87e99550>, <Element figure at 0x7efc87e995a0>, <Element img at 0x7efc87e995f0>, <Element figure at 0x7efc87e99640>, <Element img at 0x7efc87e99690>, <Element figure at 0x7efc87e996e0>, <Element img at 0x7efc87e99730>, <Element figure at 0x7efc87e99780>, <Element img at 0x7efc87e997d0>, <Element figure at 0x7efc87e99820>, <Element img at 0x7efc87e99870>, <Element figure at 0x7efc87e998c0>, <Element img at 0x7efc87e99910>, <Element figure at 0x7efc87e99960>, <Element img at 0x7efc87e999b0>, <Element section at 0x7efc87e99a00>, <Element div at 0x7efc87e99a50>, <Element span at 0x7efc87e99aa0>, <Element h2 at 0x7efc87e99af0>, <Element div at 0x7efc87e99b40>, <Element div at 0x7efc87e99b90>, <Element header at 0x7efc87e99be0>, <Element p at 0x7efc87e99c30>, <Element p at 0x7efc87e99c80>, <Element span at 0x7efc87e99cd0>, <Element p at 0x7efc87e99d20>, <Element ul at 0x7efc87e99d70>, <Element li at 0x7efc87e99dc0>, <Element ion-icon at 0x7efc87e99e10>, <Element span at 0x7efc87e99e60>, <Element li at 0x7efc87e99eb0>, <Element ion-icon at 0x7efc87e99f00>, <Element span at 0x7efc87e99f50>, <Element li at 0x7efc87e99fa0>, <Element ion-icon at 0x7efc87e9a050>, <Element span at 0x7efc87e9a0a0>, <Element li at 0x7efc87e9a0f0>, <Element ion-icon at 0x7efc87e9a140>, <Element div at 0x7efc87e9a190>, <Element a at 0x7efc87e9a1e0>, <Element div at 0x7efc87e9a230>, <Element header at 0x7efc87e9a280>, <Element p at 0x7efc87e9a2d0>, <Element p at 0x7efc87e9a320>, <Element span at 0x7efc87e9a370>, <Element p at 0x7efc87e9a3c0>, <Element ul at 0x7efc87e9a410>, <Element li at 0x7efc87e9a460>, <Element ion-icon at 0x7efc87e9a4b0>, <Element span at 0x7efc87e9a500>, <Element strong at 0x7efc87e9a550>, <Element li at 0x7efc87e9a5a0>, <Element ion-icon at 0x7efc87e9a5f0>, <Element span at 0x7efc87e9a640>, <Element strong at 0x7efc87e9a690>, <Element li at 0x7efc87e9a6e0>, <Element ion-icon at 0x7efc87e9a730>, <Element span at 0x7efc87e9a780>, <Element li at 0x7efc87e9a7d0>, <Element ion-icon at 0x7efc87e9a820>, <Element span at 0x7efc87e9a870>, <Element div at 0x7efc87e9a8c0>, <Element a at 0x7efc87e9a910>, <Element div at 0x7efc87e9a960>, <Element aside at 0x7efc87e9a9b0>, <Element div at 0x7efc87e9aa00>, <Element div at 0x7efc87e9aa50>, <Element ion-icon at 0x7efc87e9aaa0>, <Element p at 0x7efc87e9aaf0>, <Element p at 0x7efc87e9ab40>, <Element div at 0x7efc87e9ab90>, <Element ion-icon at 0x7efc87e9abe0>, <Element p at 0x7efc87e9ac30>, <Element p at 0x7efc87e9ac80>, <Element div at 0x7efc87e9acd0>, <Element ion-icon at 0x7efc87e9ad20>, <Element p at 0x7efc87e9ad70>, <Element p at 0x7efc87e9adc0>, <Element div at 0x7efc87e9ae10>, <Element ion-icon at 0x7efc87e9ae60>, <Element p at 0x7efc87e9aeb0>, <Element p at 0x7efc87e9af00>, <Element section at 0x7efc87e9af50>, <Element div at 0x7efc87e9afa0>, <Element div at 0x7efc87e9b050>, <Element div at 0x7efc87e9b0a0>, <Element h2 at 0x7efc87e9b0f0>, <Element p at 0x7efc87e9b140>, <Element form at 0x7efc87e9b190>, <Element div at 0x7efc87e9b1e0>, <Element label at 0x7efc87e9b230>, <Element input at 0x7efc87e9b280>, <Element div at 0x7efc87e9b2d0>, <Element label at 0x7efc87e9b320>, <Element input at 0x7efc87e9b370>, <Element div at 0x7efc87e9b3c0>, <Element label at 0x7efc87e9b410>, <Element select at 0x7efc87e9b460>, <Element option at 0x7efc87e9b4b0>, <Element option at 0x7efc87e9b500>, <Element option at 0x7efc87e9b550>, <Element option at 0x7efc87e9b5a0>, <Element option at 0x7efc87e9b5f0>, <Element option at 0x7efc87e9b640>, <Element button at 0x7efc87e9b690>, <Element div at 0x7efc87e9b6e0>, <Element footer at 0x7efc87e9b730>, <Element div at 0x7efc87e9b780>, <Element div at 0x7efc87e9b7d0>, <Element a at 0x7efc87e9b820>, <Element img at 0x7efc87e9b870>, <Element ul at 0x7efc87e9b8c0>, <Element li at 0x7efc87e9b910>, <Element a at 0x7efc87e9b960>, <Element ion-icon at 0x7efc87e9b9b0>, <Element li at 0x7efc87e9ba00>, <Element a at 0x7efc87e9ba50>, <Element ion-icon at 0x7efc87e9baa0>, <Element li at 0x7efc87e9baf0>, <Element a at 0x7efc87e9bb40>, <Element ion-icon at 0x7efc87e9bb90>, <Element p at 0x7efc87e9bbe0>, <Element span at 0x7efc87e9bc30>, <Element div at 0x7efc87e9bc80>, <Element p at 0x7efc87e9bcd0>, <Element address at 0x7efc87e9bd20>, <Element p at 0x7efc87e9bd70>, <Element p at 0x7efc87e9bdc0>, <Element a at 0x7efc87e9be10>, <Element br at 0x7efc87e9be60>, <Element a at 0x7efc87e9beb0>, <Element nav at 0x7efc87e9bf00>, <Element p at 0x7efc87e9bf50>, <Element ul at 0x7efc87e9bfa0>, <Element li at 0x7efc87e9c050>, <Element a at 0x7efc87e9c0a0>, <Element li at 0x7efc87e9c0f0>, <Element a at 0x7efc87e9c140>, <Element li at 0x7efc87e9c190>, <Element a at 0x7efc87e9c1e0>, <Element li at 0x7efc87e9c230>, <Element a at 0x7efc87e9c280>, <Element nav at 0x7efc87e9c2d0>, <Element p at 0x7efc87e9c320>, <Element ul at 0x7efc87e9c370>, <Element li at 0x7efc87e9c3c0>, <Element a at 0x7efc87e9c410>, <Element li at 0x7efc87e9c460>, <Element a at 0x7efc87e9c4b0>, <Element li at 0x7efc87e9c500>, <Element a at 0x7efc87e9c550>, <Element li at 0x7efc87e9c5a0>, <Element a at 0x7efc87e9c5f0>, <Element nav at 0x7efc87e9c640>, <Element p at 0x7efc87e9c690>, <Element ul at 0x7efc87e9c6e0>, <Element li at 0x7efc87e9c730>, <Element a at 0x7efc87e9c780>, <Element li at 0x7efc87e9c7d0>, <Element a at 0x7efc87e9c820>, <Element li at 0x7efc87e9c870>, <Element a at 0x7efc87e9c8c0>]\n"
          ]
        }
      ]
    },
    {
      "cell_type": "code",
      "source": [
        "#if we only want to get nodes belongs to <li></li>\n",
        "result = html.xpath('//li')\n",
        "print(result)\n",
        "print(result[0]) #get the index object"
      ],
      "metadata": {
        "colab": {
          "base_uri": "https://localhost:8080/"
        },
        "id": "cng5uiTFOFYN",
        "outputId": "a4c1c9b9-4e47-412e-892c-e363d4a13b07"
      },
      "execution_count": 7,
      "outputs": [
        {
          "output_type": "stream",
          "name": "stdout",
          "text": [
            "[<Element li at 0x7efc88120190>, <Element li at 0x7efc88120230>, <Element li at 0x7efc881202d0>, <Element li at 0x7efc88120370>, <Element li at 0x7efc88120410>, <Element li at 0x7efc87e966e0>, <Element li at 0x7efc87e96820>, <Element li at 0x7efc87e96960>, <Element li at 0x7efc87e96d20>, <Element li at 0x7efc87e96e60>, <Element li at 0x7efc87e96fa0>, <Element li at 0x7efc87e98230>, <Element li at 0x7efc87e98320>, <Element li at 0x7efc87e98410>, <Element li at 0x7efc87e98500>, <Element li at 0x7efc87e985f0>, <Element li at 0x7efc87e986e0>, <Element li at 0x7efc87e987d0>, <Element li at 0x7efc87e988c0>, <Element li at 0x7efc87e989b0>, <Element li at 0x7efc87e99dc0>, <Element li at 0x7efc87e99eb0>, <Element li at 0x7efc87e99fa0>, <Element li at 0x7efc87e9a0f0>, <Element li at 0x7efc87e9a460>, <Element li at 0x7efc87e9a5a0>, <Element li at 0x7efc87e9a6e0>, <Element li at 0x7efc87e9a7d0>, <Element li at 0x7efc87e9b910>, <Element li at 0x7efc87e9ba00>, <Element li at 0x7efc87e9baf0>, <Element li at 0x7efc87e9c050>, <Element li at 0x7efc87e9c0f0>, <Element li at 0x7efc87e9c190>, <Element li at 0x7efc87e9c230>, <Element li at 0x7efc87e9c3c0>, <Element li at 0x7efc87e9c460>, <Element li at 0x7efc87e9c500>, <Element li at 0x7efc87e9c5a0>, <Element li at 0x7efc87e9c730>, <Element li at 0x7efc87e9c7d0>, <Element li at 0x7efc87e9c870>]\n",
            "<Element li at 0x7efc88120190>\n"
          ]
        }
      ]
    },
    {
      "cell_type": "markdown",
      "source": [
        "## Child Node\n",
        "- use `/` to get direct Child nodes\n",
        "- use `//` to get Descendant nodes."
      ],
      "metadata": {
        "id": "MO5Ue2nMOcye"
      }
    },
    {
      "cell_type": "code",
      "source": [
        "#if we want to get all direct <a> nodes inside the <li> nodes in this html file.\n",
        "result = html.xpath('//li/a')\n",
        "print(result)"
      ],
      "metadata": {
        "colab": {
          "base_uri": "https://localhost:8080/"
        },
        "id": "jBOmVDH6OeHD",
        "outputId": "9859236b-750e-4814-c86b-685d9638e3cf"
      },
      "execution_count": 8,
      "outputs": [
        {
          "output_type": "stream",
          "name": "stdout",
          "text": [
            "[<Element a at 0x7efc87e99910>, <Element a at 0x7efc87e99870>, <Element a at 0x7efc87e99050>, <Element a at 0x7efc87e993c0>, <Element a at 0x7efc87e992d0>, <Element a at 0x7efc87e99230>, <Element a at 0x7efc87e990f0>, <Element a at 0x7efc87e991e0>, <Element a at 0x7efc87e990a0>, <Element a at 0x7efc87e980a0>, <Element a at 0x7efc87e98050>, <Element a at 0x7efc87e98140>, <Element a at 0x7efc87e980f0>, <Element a at 0x7efc87e98370>, <Element a at 0x7efc87e982d0>, <Element a at 0x7efc87e98280>, <Element a at 0x7efc87e981e0>, <Element a at 0x7efc87e98190>, <Element a at 0x7efc87e960f0>]\n"
          ]
        }
      ]
    },
    {
      "cell_type": "code",
      "source": [
        "#if we want to get all descendant nodes <a> inside the <li> nodes in this html file.\n",
        "result = html.xpath('//ul//a')\n",
        "print(result)"
      ],
      "metadata": {
        "colab": {
          "base_uri": "https://localhost:8080/"
        },
        "id": "MECE3Yg4PcqT",
        "outputId": "9b627994-3682-41f9-9cae-57ac211729b3"
      },
      "execution_count": 9,
      "outputs": [
        {
          "output_type": "stream",
          "name": "stdout",
          "text": [
            "[<Element a at 0x7efc87e99910>, <Element a at 0x7efc87e99870>, <Element a at 0x7efc87e99050>, <Element a at 0x7efc87e993c0>, <Element a at 0x7efc87e992d0>, <Element a at 0x7efc87e99230>, <Element a at 0x7efc87e990f0>, <Element a at 0x7efc87e991e0>, <Element a at 0x7efc87e990a0>, <Element a at 0x7efc87e980a0>, <Element a at 0x7efc87e98050>, <Element a at 0x7efc87e98140>, <Element a at 0x7efc87e980f0>, <Element a at 0x7efc87e98370>, <Element a at 0x7efc87e982d0>, <Element a at 0x7efc87e98280>, <Element a at 0x7efc87e981e0>, <Element a at 0x7efc87e98190>, <Element a at 0x7efc87e960f0>]\n"
          ]
        }
      ]
    },
    {
      "cell_type": "markdown",
      "source": [
        "## Parent Nodes\n",
        "- Method1: use `..` to get the parent node, given the known child node using `Nodename_Child[@detail]/../@Nodename_Parent`\n",
        "- Method2: use `parent::`"
      ],
      "metadata": {
        "id": "gnJyWXb6P3HI"
      }
    },
    {
      "cell_type": "code",
      "source": [
        "#if we want to get the selected child's[@...] attribute is <a>, then we want to get its parent's class attribute name.\n",
        "result = html.xpath('//a[@href=\"#how\"]/../@class')  \n",
        "print(result)"
      ],
      "metadata": {
        "colab": {
          "base_uri": "https://localhost:8080/"
        },
        "id": "ceyZ745BQE3F",
        "outputId": "0c2aa4c8-841c-4e79-a4f2-10b2feb6a9dc"
      },
      "execution_count": 10,
      "outputs": [
        {
          "output_type": "stream",
          "name": "stdout",
          "text": [
            "['hero-text-box']\n"
          ]
        }
      ]
    },
    {
      "cell_type": "code",
      "source": [
        "result = html.xpath('//a[@href=\"#how\"]/parent::*/@class')  \n",
        "print(result)"
      ],
      "metadata": {
        "colab": {
          "base_uri": "https://localhost:8080/"
        },
        "id": "Yf0yywoWf_mE",
        "outputId": "0fdfd4cd-27b8-4cbf-c1ba-bc9afd283807"
      },
      "execution_count": 11,
      "outputs": [
        {
          "output_type": "stream",
          "name": "stdout",
          "text": [
            "['hero-text-box']\n"
          ]
        }
      ]
    },
    {
      "cell_type": "markdown",
      "source": [
        "## Attribute Matching\n",
        "- use `@Nodename='detailedName'` to filter the attribute we want to select"
      ],
      "metadata": {
        "id": "GcfGbWbLgL-I"
      }
    },
    {
      "cell_type": "code",
      "source": [
        "result = html.xpath('//p[@class=\"feature-title\"]')  \n",
        "print(result)"
      ],
      "metadata": {
        "colab": {
          "base_uri": "https://localhost:8080/"
        },
        "id": "LRMA7ot2hR-R",
        "outputId": "1381e6a3-1ce2-4b7f-dadd-722165b28876"
      },
      "execution_count": 14,
      "outputs": [
        {
          "output_type": "stream",
          "name": "stdout",
          "text": [
            "[<Element p at 0x7efc8e5bb140>, <Element p at 0x7efc8883e5f0>, <Element p at 0x7efc87e9c0a0>, <Element p at 0x7efc87e9cf50>]\n"
          ]
        }
      ]
    },
    {
      "cell_type": "markdown",
      "source": [
        "## Text Aquisition\n",
        "- use `/text()` to abstract the corresponding text we want to select **directly** under this attribute.\n",
        "- if we use the indirect attribute in front then we need \n",
        "   - Method1:  `//indirectNodename[@...]/directNodename/text()`\n",
        "      - Only returns all the text.\n",
        "   - Method2: `//indirectNodename[@...]//text()`\n",
        "      - It will get the whole information, includes some special symbols."
      ],
      "metadata": {
        "id": "85ok_Xqmh2_8"
      }
    },
    {
      "cell_type": "code",
      "source": [
        "result = html.xpath('//p[@class=\"feature-title\"]/text()')  \n",
        "print(result)"
      ],
      "metadata": {
        "colab": {
          "base_uri": "https://localhost:8080/"
        },
        "id": "qKDmfgdEiPKi",
        "outputId": "a7fc1936-b35e-4774-874d-37f406c0a72e"
      },
      "execution_count": 15,
      "outputs": [
        {
          "output_type": "stream",
          "name": "stdout",
          "text": [
            "['Never cook again!', 'Local and organic', 'No waste', 'Pause anytime']\n"
          ]
        }
      ]
    },
    {
      "cell_type": "markdown",
      "source": [
        "## Get Attribute\n",
        "- use `@` without `[ ]`, which is different from attribute matching."
      ],
      "metadata": {
        "id": "JLLBVv8sjV_g"
      }
    },
    {
      "cell_type": "code",
      "source": [
        "result = html.xpath('//li/a/@href')  \n",
        "print(result)"
      ],
      "metadata": {
        "colab": {
          "base_uri": "https://localhost:8080/"
        },
        "id": "mbYlr8-ejZdM",
        "outputId": "4868aca0-05f2-4feb-ba52-56e733c5c734"
      },
      "execution_count": 16,
      "outputs": [
        {
          "output_type": "stream",
          "name": "stdout",
          "text": [
            "['#how', '#meals', '#testimonials', '#pricing', '#cta', '#', '#', '#', '#', '#', '#', '#', '#', '#', '#', '#', '#', '#', '#']\n"
          ]
        }
      ]
    },
    {
      "cell_type": "markdown",
      "source": [
        "## Match Attribute with Mutiple Values\n"
      ],
      "metadata": {
        "id": "OhBMHEpYqwlK"
      }
    },
    {
      "cell_type": "code",
      "source": [
        "text = '''  \n",
        "<a href=\"#cta\" class=\"btn btn--full margin-right-sm\">Start eating well</a>\n",
        "'''  \n",
        "html = etree.HTML(text)  \n",
        "result = html.xpath('//a[@class=\"btn\"]/text()')  \n",
        "print(result)"
      ],
      "metadata": {
        "colab": {
          "base_uri": "https://localhost:8080/"
        },
        "id": "qYsySSTdq_GZ",
        "outputId": "e4320182-89c5-44e2-c35e-b5548d1056d2"
      },
      "execution_count": 20,
      "outputs": [
        {
          "output_type": "stream",
          "name": "stdout",
          "text": [
            "[]\n"
          ]
        }
      ]
    },
    {
      "cell_type": "markdown",
      "source": [
        "- In this case, the `class` attribute has two values: `btn` and `btn--full`, we can not get the attribute matching method we mentioned before.\n",
        "- Instead, we use `contains` method:\n",
        "```\n",
        "//nodeName[contains(@attributeName,'value')]/text()\n",
        "```"
      ],
      "metadata": {
        "id": "lc4OhkZTrGrk"
      }
    },
    {
      "cell_type": "code",
      "source": [
        "result = html.xpath('//a[contains(@class, \"btn\")]/text()')  \n",
        "print(result)"
      ],
      "metadata": {
        "colab": {
          "base_uri": "https://localhost:8080/"
        },
        "id": "H1abd_srsEjD",
        "outputId": "67555325-2f1b-4254-9eb7-256c5efeb175"
      },
      "execution_count": 21,
      "outputs": [
        {
          "output_type": "stream",
          "name": "stdout",
          "text": [
            "['Start eating well']\n"
          ]
        }
      ]
    },
    {
      "cell_type": "markdown",
      "source": [
        "## Muti-Attribute Matching\n",
        "- Situation: multiple attributes match one node, use `and` to connect."
      ],
      "metadata": {
        "id": "zjgazcIZs8R7"
      }
    },
    {
      "cell_type": "code",
      "source": [
        "text = '''  \n",
        "<a href=\"#cta\" class=\"btn btn--full margin-right-sm\" name=\"cta\">Start eating well</a>\n",
        "'''  \n",
        "html = etree.HTML(text)  \n",
        "result = html.xpath('//a[contains(@class, \"btn\") and @name=\"cta\"]/text()')  \n",
        "print(result)"
      ],
      "metadata": {
        "colab": {
          "base_uri": "https://localhost:8080/"
        },
        "id": "eGLiX_SgtcaP",
        "outputId": "2d6c9a4d-6750-4fdd-b7b8-610204da9da3"
      },
      "execution_count": 23,
      "outputs": [
        {
          "output_type": "stream",
          "name": "stdout",
          "text": [
            "['Start eating well']\n"
          ]
        }
      ]
    },
    {
      "cell_type": "markdown",
      "source": [
        "## Select by Order\n",
        "- Sometimes, there are several nodes under one attribute, but we only want to select few nodes,using order number (start from **1**, which is different from indexing starts from 0) to abstract."
      ],
      "metadata": {
        "id": "-ljgO_xOtgro"
      }
    },
    {
      "cell_type": "code",
      "source": [
        "text='''\n",
        "<nav class=\"main-nav\">\n",
        "        <ul class=\"main-nav-list\">\n",
        "          <li><a class=\"main-nav-link\" href=\"#how\">How it works</a></li>\n",
        "          <li><a class=\"main-nav-link\" href=\"#meals\">Meals</a></li>\n",
        "          <li><a class=\"main-nav-link\" href=\"#testimonials\">Testimonials</a></li>\n",
        "          <li><a class=\"main-nav-link\" href=\"#pricing\">Pricing</a></li>\n",
        "          <li><a class=\"main-nav-link nav-cta\" href=\"#cta\">Try for free</a></li>\n",
        "        </ul>\n",
        "      </nav>\n",
        "'''\n",
        "html = etree.HTML(text)\n",
        "result = html.xpath('//li[1]/a/text()')\n",
        "print(result)\n",
        "result = html.xpath('//li[last()]/a/text()')\n",
        "print(result)\n",
        "result = html.xpath('//li[position()<3]/a/text()')\n",
        "print(result)\n",
        "result = html.xpath('//li[last()-2]/a/text()')\n",
        "print(result)"
      ],
      "metadata": {
        "colab": {
          "base_uri": "https://localhost:8080/"
        },
        "id": "CrgK7pXxzcUX",
        "outputId": "6b427d88-3df0-4e6a-ce8a-a3e25ae78710"
      },
      "execution_count": 27,
      "outputs": [
        {
          "output_type": "stream",
          "name": "stdout",
          "text": [
            "['How it works']\n",
            "['Try for free']\n",
            "['How it works', 'Meals']\n",
            "['Testimonials']\n"
          ]
        }
      ]
    },
    {
      "cell_type": "markdown",
      "source": [
        "## Select by Axis\n",
        "- Get child, sibling(brother), parent, ancestor elements."
      ],
      "metadata": {
        "id": "mazXP3ovxeaj"
      }
    },
    {
      "cell_type": "code",
      "source": [
        "text='''\n",
        "<nav class=\"main-nav\">\n",
        "        <ul class=\"main-nav-list\">\n",
        "          <li><a class=\"main-nav-link\" href=\"#how\"><span>How it works<span></a></li>\n",
        "          <li><a class=\"main-nav-link\" href=\"#meals\">Meals</a></li>\n",
        "          <li><a class=\"main-nav-link\" href=\"#testimonials\">Testimonials</a></li>\n",
        "          <li><a class=\"main-nav-link\" href=\"#pricing\">Pricing</a></li>\n",
        "          <li><a class=\"main-nav-link nav-cta\" href=\"#cta\">Try for free</a></li>\n",
        "        </ul>\n",
        "      </nav>\n",
        "'''\n",
        "html = etree.HTML(text)\n",
        "result = html.xpath('//li[1]/ancestor::*') #return all the ancestor nodes <html>,<body>,<nav>,<ul>\n",
        "print(result)\n",
        "result = html.xpath('//li[1]/ancestor::nav') #return nav ancestor node\n",
        "print(result)\n",
        "result = html.xpath('//li[1]/attribute::*') #return the atrribute of <li> nodes\n",
        "print(result)\n",
        "result = html.xpath('//li[1]/child::a[@href=\"#how\"]')\n",
        "print(result)\n",
        "result = html.xpath('//li[1]/descendant::span') #get all descendant node with span\n",
        "print(result)\n",
        "result = html.xpath('//li[1]/following::*[2]') #get all nodes after the current node, in this case, we use order selector to get the second node\n",
        "print(result)\n",
        "result = html.xpath('//li[1]/following-sibling::*') #get the brother nodes in the same level, after the current node.\n",
        "print(result)\n"
      ],
      "metadata": {
        "colab": {
          "base_uri": "https://localhost:8080/"
        },
        "id": "J7vLQ6hY0gPS",
        "outputId": "89c2a750-65d4-47eb-a828-cf0a4c2f5475"
      },
      "execution_count": 28,
      "outputs": [
        {
          "output_type": "stream",
          "name": "stdout",
          "text": [
            "[<Element html at 0x7efc8cb74280>, <Element body at 0x7efc8cb74eb0>, <Element nav at 0x7efc87447820>, <Element ul at 0x7efc87447c80>]\n",
            "[<Element nav at 0x7efc87447820>]\n",
            "[]\n",
            "[<Element a at 0x7efc8cb74eb0>]\n",
            "[<Element span at 0x7efc87447820>, <Element span at 0x7efc87447c80>]\n",
            "[<Element a at 0x7efc8cb74eb0>]\n",
            "[<Element li at 0x7efc87447820>, <Element li at 0x7efc87447c80>, <Element li at 0x7efc87447410>, <Element li at 0x7efc874479b0>]\n"
          ]
        }
      ]
    }
  ]
}